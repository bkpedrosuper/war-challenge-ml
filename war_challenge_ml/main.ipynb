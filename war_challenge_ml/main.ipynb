{
 "cells": [
  {
   "cell_type": "code",
   "execution_count": 25,
   "metadata": {},
   "outputs": [
    {
     "name": "stdout",
     "output_type": "stream",
     "text": [
      "env: ENVIRONMENT=prod\n"
     ]
    }
   ],
   "source": [
    "%env ENVIRONMENT prod"
   ]
  },
  {
   "cell_type": "code",
   "execution_count": 26,
   "metadata": {},
   "outputs": [],
   "source": [
    "from war_challenge_computer_vision.main import get_data_from_path\n",
    "import glob\n",
    "from scripts.player import Player\n",
    "from scripts.army import Army\n",
    "from scripts.state import WorldState\n",
    "from scripts.objectives import Objective\n",
    "from pathlib import Path\n",
    "import os"
   ]
  },
  {
   "cell_type": "code",
   "execution_count": 27,
   "metadata": {},
   "outputs": [
    {
     "name": "stdout",
     "output_type": "stream",
     "text": [
      "The autoreload extension is already loaded. To reload it, use:\n",
      "  %reload_ext autoreload\n"
     ]
    }
   ],
   "source": [
    "%load_ext autoreload\n",
    "%autoreload 2"
   ]
  },
  {
   "cell_type": "code",
   "execution_count": 44,
   "metadata": {},
   "outputs": [
    {
     "ename": "AttributeError",
     "evalue": "'Objective' object has no attribute 'conquertype'",
     "output_type": "error",
     "traceback": [
      "\u001b[0;31m---------------------------------------------------------------------------\u001b[0m",
      "\u001b[0;31mAttributeError\u001b[0m                            Traceback (most recent call last)",
      "\u001b[1;32m/home/udesc/war-challenge-ia/war-challenge-ml/war_challenge_ml/main.ipynb Cell 4\u001b[0m line \u001b[0;36m3\n\u001b[1;32m      <a href='vscode-notebook-cell:/home/udesc/war-challenge-ia/war-challenge-ml/war_challenge_ml/main.ipynb#W6sZmlsZQ%3D%3D?line=0'>1</a>\u001b[0m army \u001b[39m=\u001b[39m Army\u001b[39m.\u001b[39mPURPLE\u001b[39m.\u001b[39mvalue\n\u001b[1;32m      <a href='vscode-notebook-cell:/home/udesc/war-challenge-ia/war-challenge-ml/war_challenge_ml/main.ipynb#W6sZmlsZQ%3D%3D?line=1'>2</a>\u001b[0m objective \u001b[39m=\u001b[39m Objective\u001b[39m.\u001b[39mCONQUER_18_TERRITORIES_2_TROOPS\n\u001b[0;32m----> <a href='vscode-notebook-cell:/home/udesc/war-challenge-ia/war-challenge-ml/war_challenge_ml/main.ipynb#W6sZmlsZQ%3D%3D?line=2'>3</a>\u001b[0m player \u001b[39m=\u001b[39m Player(army \u001b[39m=\u001b[39;49m army, my_objective \u001b[39m=\u001b[39;49m objective)\n",
      "File \u001b[0;32m~/war-challenge-ia/war-challenge-ml/war_challenge_ml/scripts/player.py:20\u001b[0m, in \u001b[0;36mPlayer.__init__\u001b[0;34m(self, army, my_objective)\u001b[0m\n\u001b[1;32m     18\u001b[0m \u001b[39mself\u001b[39m\u001b[39m.\u001b[39marmy \u001b[39m=\u001b[39m army\n\u001b[1;32m     19\u001b[0m \u001b[39mself\u001b[39m\u001b[39m.\u001b[39mmy_objective \u001b[39m=\u001b[39m my_objective\n\u001b[0;32m---> 20\u001b[0m \u001b[39mself\u001b[39m\u001b[39m.\u001b[39mworldState\u001b[39m.\u001b[39mset_default_weights(generate_base_weights(\u001b[39mself\u001b[39;49m\u001b[39m.\u001b[39;49mmy_objective))\n\u001b[1;32m     21\u001b[0m \u001b[39mself\u001b[39m\u001b[39m.\u001b[39miteration \u001b[39m=\u001b[39m \u001b[39mself\u001b[39m\u001b[39m.\u001b[39mrange_random()\n",
      "File \u001b[0;32m~/war-challenge-ia/war-challenge-ml/war_challenge_ml/scripts/objectives.py:93\u001b[0m, in \u001b[0;36mgenerate_base_weights\u001b[0;34m(my_objective)\u001b[0m\n\u001b[1;32m     91\u001b[0m \u001b[39mdef\u001b[39;00m \u001b[39mgenerate_base_weights\u001b[39m(my_objective: ObjectiveData):\n\u001b[1;32m     92\u001b[0m     weights \u001b[39m=\u001b[39m [\u001b[39m0.1\u001b[39m \u001b[39mfor\u001b[39;00m _ \u001b[39min\u001b[39;00m \u001b[39mrange\u001b[39m(\u001b[39mlen\u001b[39m(Region))]\n\u001b[0;32m---> 93\u001b[0m     \u001b[39mmatch\u001b[39;00m my_objective\u001b[39m.\u001b[39;49mconquertype\u001b[39m.\u001b[39mname:\n\u001b[1;32m     94\u001b[0m         \u001b[39mcase\u001b[39;00m Conquer\u001b[39m.\u001b[39mCONTINENT\u001b[39m.\u001b[39mname:\n\u001b[1;32m     95\u001b[0m             \u001b[39mfor\u001b[39;00m region \u001b[39min\u001b[39;00m Region:\n",
      "\u001b[0;31mAttributeError\u001b[0m: 'Objective' object has no attribute 'conquertype'"
     ]
    }
   ],
   "source": [
    "army = Army.PURPLE.value\n",
    "objective = Objective.CONQUER_18_TERRITORIES_2_TROOPS.value\n",
    "player = Player(army = army, my_objective = objective)"
   ]
  },
  {
   "cell_type": "code",
   "execution_count": 42,
   "metadata": {},
   "outputs": [
    {
     "name": "stdout",
     "output_type": "stream",
     "text": [
      "Algeria_Nigeria lightseagreen 1\n",
      "Egypt darkslategray 1\n",
      "Mackenzie goldenrod 1\n",
      "Borneo olivedrab 1\n",
      "Vancouver goldenrod 1\n",
      "Germany goldenrod 1\n",
      "Omsk goldenrod 1\n",
      "Mongolia goldenrod 1\n",
      "New_Guinea goldenrod 1\n"
     ]
    }
   ],
   "source": [
    "pattern = str(Path(f\"{os.path.expanduser('~')}/Pictures/Screenshots/\").resolve()) + '/*'\n",
    "list_of_files = glob.glob(pattern)\n",
    "latest_file = max(list_of_files, key=os.path.getctime)\n",
    "game_data = get_data_from_path(Path(latest_file))"
   ]
  },
  {
   "cell_type": "code",
   "execution_count": 43,
   "metadata": {},
   "outputs": [
    {
     "data": {
      "text/plain": [
       "([(Brazil, 1, 'indigo'),\n",
       "  (Argentina_Uruguay, 1, 'indigo'),\n",
       "  (Colombia_Venezuela, 7, 'lightseagreen'),\n",
       "  (Peru_Bolivia_Chile, 1, 'firebrick'),\n",
       "  (Mexico, 1, 'olivedrab'),\n",
       "  (California, 1, 'olivedrab'),\n",
       "  (New_York, 7, 'olivedrab'),\n",
       "  (Labrador, 7, 'lightseagreen'),\n",
       "  (Ottawa, 1, 'indigo'),\n",
       "  (Vancouver, 1, 'goldenrod'),\n",
       "  (Mackenzie, 1, 'goldenrod'),\n",
       "  (Alaska, 7, 'firebrick'),\n",
       "  (Greenland, 1, 'firebrick'),\n",
       "  (Iceland, 1, 'lightseagreen'),\n",
       "  (England, 7, 'olivedrab'),\n",
       "  (Sweden, 1, 'lightseagreen'),\n",
       "  (Germany, 1, 'goldenrod'),\n",
       "  (Spain_Portugal_France_Italy, 1, 'lightseagreen'),\n",
       "  (Poland_Yugoslavia, 7, 'firebrick'),\n",
       "  (Moscow, 7, 'lightseagreen'),\n",
       "  (Algeria_Nigeria, 1, 'lightseagreen'),\n",
       "  (Egypt, 1, 'darkslategray'),\n",
       "  (Congo, 1, 'indigo'),\n",
       "  (Sudan, 7, 'indigo'),\n",
       "  (Madagascar, 7, 'black'),\n",
       "  (South_Africa, 1, 'indigo'),\n",
       "  (Middle_East, 1, 'lightseagreen'),\n",
       "  (Aral, 1, 'darkslateblue'),\n",
       "  (Omsk, 1, 'goldenrod'),\n",
       "  (Dudinka, 1, 'olivedrab'),\n",
       "  (Siberia, 1, 'olivedrab'),\n",
       "  (Tchita, 1, 'darkslategray'),\n",
       "  (Mongolia, 1, 'goldenrod'),\n",
       "  (Vladivostok, 1, 'goldenrod'),\n",
       "  (China, 7, 'firebrick'),\n",
       "  (India, 1, 'firebrick'),\n",
       "  (Japan, 7, 'olivedrab'),\n",
       "  (Vietnam, 7, 'olivedrab'),\n",
       "  (Borneo, 1, 'olivedrab'),\n",
       "  (Sumatra, 7, 'firebrick'),\n",
       "  (New_Guinea, 1, 'goldenrod'),\n",
       "  (Australia, 3, 'olivedrab')],\n",
       " array([[ True,  True,  True, ..., False, False, False],\n",
       "        [ True, False,  True, ..., False, False, False],\n",
       "        [ True, False,  True, ..., False, False, False],\n",
       "        ...,\n",
       "        [False, False, False, ..., False, False,  True],\n",
       "        [False, False, False, ...,  True, False,  True],\n",
       "        [False, False, False, ...,  True,  True,  True]]),\n",
       " alocacao)"
      ]
     },
     "execution_count": 43,
     "metadata": {},
     "output_type": "execute_result"
    }
   ],
   "source": [
    "game_data"
   ]
  },
  {
   "cell_type": "code",
   "execution_count": 40,
   "metadata": {},
   "outputs": [
    {
     "ename": "KeyError",
     "evalue": "'indigo'",
     "output_type": "error",
     "traceback": [
      "\u001b[0;31m---------------------------------------------------------------------------\u001b[0m",
      "\u001b[0;31mKeyError\u001b[0m                                  Traceback (most recent call last)",
      "\u001b[1;32m/home/udesc/war-challenge-ia/war-challenge-ml/war_challenge_ml/main.ipynb Cell 7\u001b[0m line \u001b[0;36m1\n\u001b[0;32m----> <a href='vscode-notebook-cell:/home/udesc/war-challenge-ia/war-challenge-ml/war_challenge_ml/main.ipynb#W5sZmlsZQ%3D%3D?line=0'>1</a>\u001b[0m player\u001b[39m.\u001b[39;49mupdate(game_data)\n",
      "File \u001b[0;32m~/war-challenge-ia/war-challenge-ml/war_challenge_ml/scripts/player.py:26\u001b[0m, in \u001b[0;36mPlayer.update\u001b[0;34m(self, data)\u001b[0m\n\u001b[1;32m     25\u001b[0m \u001b[39mdef\u001b[39;00m \u001b[39mupdate\u001b[39m(\u001b[39mself\u001b[39m, data):\n\u001b[0;32m---> 26\u001b[0m     \u001b[39mself\u001b[39;49m\u001b[39m.\u001b[39;49mworldState\u001b[39m.\u001b[39;49mupdate(data[\u001b[39m0\u001b[39;49m])\n\u001b[1;32m     27\u001b[0m     \u001b[39mself\u001b[39m\u001b[39m.\u001b[39mworldState\u001b[39m.\u001b[39mset_default_weights\n",
      "File \u001b[0;32m~/war-challenge-ia/war-challenge-ml/war_challenge_ml/scripts/state.py:69\u001b[0m, in \u001b[0;36mWorldState.update\u001b[0;34m(self, computer_vision_data)\u001b[0m\n\u001b[1;32m     67\u001b[0m             troops \u001b[39m=\u001b[39m elemento[\u001b[39m1\u001b[39m]\n\u001b[1;32m     68\u001b[0m             color \u001b[39m=\u001b[39m elemento[\u001b[39m2\u001b[39m]\n\u001b[0;32m---> 69\u001b[0m             regionState\u001b[39m.\u001b[39marmy \u001b[39m=\u001b[39m armydict[color]\u001b[39m.\u001b[39mvalue\n\u001b[1;32m     70\u001b[0m             regionState\u001b[39m.\u001b[39mtroops \u001b[39m=\u001b[39m troops\n\u001b[1;32m     72\u001b[0m \u001b[39mprint\u001b[39m(\u001b[39m\"\u001b[39m\u001b[39m(WorldState) updated\u001b[39m\u001b[39m\"\u001b[39m)\n",
      "\u001b[0;31mKeyError\u001b[0m: 'indigo'"
     ]
    }
   ],
   "source": [
    "player.update(game_data)"
   ]
  },
  {
   "cell_type": "code",
   "execution_count": 33,
   "metadata": {},
   "outputs": [
    {
     "name": "stdout",
     "output_type": "stream",
     "text": [
      "(WorldState) updated\n",
      "Ottawa ataca Mackenzie\n"
     ]
    }
   ],
   "source": [
    "player.divide_and_conquer(game_data)"
   ]
  },
  {
   "cell_type": "code",
   "execution_count": 34,
   "metadata": {},
   "outputs": [
    {
     "name": "stdout",
     "output_type": "stream",
     "text": [
      "Algeria_Nigeria -(6)-> Egypt\n"
     ]
    }
   ],
   "source": [
    "player.move()"
   ]
  }
 ],
 "metadata": {
  "kernelspec": {
   "display_name": ".venv",
   "language": "python",
   "name": "python3"
  },
  "language_info": {
   "codemirror_mode": {
    "name": "ipython",
    "version": 3
   },
   "file_extension": ".py",
   "mimetype": "text/x-python",
   "name": "python",
   "nbconvert_exporter": "python",
   "pygments_lexer": "ipython3",
   "version": "3.11.3"
  },
  "orig_nbformat": 4
 },
 "nbformat": 4,
 "nbformat_minor": 2
}
