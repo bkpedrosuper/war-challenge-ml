{
 "cells": [
  {
   "cell_type": "code",
   "execution_count": 69,
   "metadata": {},
   "outputs": [
    {
     "name": "stdout",
     "output_type": "stream",
     "text": [
      "env: ENVIRONMENT=prod\n"
     ]
    }
   ],
   "source": [
    "%env ENVIRONMENT prod"
   ]
  },
  {
   "cell_type": "code",
   "execution_count": 70,
   "metadata": {},
   "outputs": [],
   "source": [
    "from war_challenge_computer_vision.main import get_data_from_path\n",
    "import glob\n",
    "from scripts.player import Player\n",
    "from scripts.army import Army\n",
    "from scripts.state import WorldState\n",
    "from scripts.objectives import Objective\n",
    "from pathlib import Path\n",
    "import os"
   ]
  },
  {
   "cell_type": "code",
   "execution_count": 71,
   "metadata": {},
   "outputs": [
    {
     "name": "stdout",
     "output_type": "stream",
     "text": [
      "The autoreload extension is already loaded. To reload it, use:\n",
      "  %reload_ext autoreload\n"
     ]
    }
   ],
   "source": [
    "%load_ext autoreload\n",
    "%autoreload 2"
   ]
  },
  {
   "cell_type": "code",
   "execution_count": 107,
   "metadata": {},
   "outputs": [],
   "source": [
    "army = Army.PURPLE.value\n",
    "objective = Objective.CONQUER_18_TERRITORIES_2_TROOPS.value\n",
    "player = Player(army = army, my_objective = objective)"
   ]
  },
  {
   "cell_type": "code",
   "execution_count": 108,
   "metadata": {},
   "outputs": [
    {
     "name": "stdout",
     "output_type": "stream",
     "text": [
      "New_York olivedrab 1\n"
     ]
    }
   ],
   "source": [
    "pattern = str(Path(f\"{os.path.expanduser('~')}/Pictures/Screenshots/\").resolve()) + '/*'\n",
    "list_of_files = glob.glob(pattern)\n",
    "latest_file = max(list_of_files, key=os.path.getctime)\n",
    "game_data = get_data_from_path(Path(latest_file))"
   ]
  },
  {
   "cell_type": "code",
   "execution_count": 74,
   "metadata": {},
   "outputs": [
    {
     "data": {
      "text/plain": [
       "([(Brazil, 7, 'lightseagreen'),\n",
       "  (Argentina_Uruguay, 1, 'lightseagreen'),\n",
       "  (Colombia_Venezuela, 5, 'lightseagreen'),\n",
       "  (Peru_Bolivia_Chile, 7, 'lightseagreen'),\n",
       "  (Mexico, 8, 'olivedrab'),\n",
       "  (California, 7, 'olivedrab'),\n",
       "  (New_York, 7, 'olivedrab'),\n",
       "  (Labrador, 7, 'darkslategray'),\n",
       "  (Ottawa, 7, 'olivedrab'),\n",
       "  (Vancouver, 1, 'olivedrab'),\n",
       "  (Mackenzie, 1, 'goldenrod'),\n",
       "  (Alaska, 7, 'olivedrab'),\n",
       "  (Greenland, 1, 'firebrick'),\n",
       "  (Iceland, 1, 'lightseagreen'),\n",
       "  (England, 1, 'olivedrab'),\n",
       "  (Sweden, 1, 'darkslategray'),\n",
       "  (Germany, 1, 'darkslategray'),\n",
       "  (Spain_Portugal_France_Italy, 1, 'darkslategray'),\n",
       "  (Poland_Yugoslavia, 4, 'firebrick'),\n",
       "  (Moscow, 7, 'lightseagreen'),\n",
       "  (Algeria_Nigeria, 2, 'lightseagreen'),\n",
       "  (Egypt, 1, 'lightseagreen'),\n",
       "  (Congo, 6, 'darkslateblue'),\n",
       "  (Sudan, 1, 'darkslategray'),\n",
       "  (Madagascar, 4, 'darkslategray'),\n",
       "  (South_Africa, 1, 'darkslateblue'),\n",
       "  (Middle_East, 1, 'lightseagreen'),\n",
       "  (Aral, 1, 'darkslateblue'),\n",
       "  (Omsk, 1, 'goldenrod'),\n",
       "  (Dudinka, 1, 'darkslategray'),\n",
       "  (Siberia, 1, 'olivedrab'),\n",
       "  (Tchita, 1, 'lightseagreen'),\n",
       "  (Mongolia, 1, 'darkslategray'),\n",
       "  (Vladivostok, 1, 'goldenrod'),\n",
       "  (China, 30, 'goldenrod'),\n",
       "  (India, 1, 'firebrick'),\n",
       "  (Japan, 1, 'olivedrab'),\n",
       "  (Vietnam, 5, 'goldenrod'),\n",
       "  (Borneo, 5, 'goldenrod'),\n",
       "  (Sumatra, 1, 'darkslategray'),\n",
       "  (New_Guinea, 2, 'darkslategray'),\n",
       "  (Australia, 7, 'goldenrod')],\n",
       " array([[ True,  True,  True, ..., False, False, False],\n",
       "        [ True, False,  True, ..., False, False, False],\n",
       "        [ True, False,  True, ..., False, False, False],\n",
       "        ...,\n",
       "        [False, False, False, ..., False, False,  True],\n",
       "        [False, False, False, ...,  True, False,  True],\n",
       "        [False, False, False, ...,  True,  True,  True]]),\n",
       " ataque)"
      ]
     },
     "execution_count": 74,
     "metadata": {},
     "output_type": "execute_result"
    }
   ],
   "source": [
    "game_data"
   ]
  },
  {
   "cell_type": "code",
   "execution_count": 100,
   "metadata": {},
   "outputs": [
    {
     "name": "stdout",
     "output_type": "stream",
     "text": [
      "(WorldState) updated\n"
     ]
    }
   ],
   "source": [
    "player.update(game_data)"
   ]
  },
  {
   "cell_type": "code",
   "execution_count": 109,
   "metadata": {},
   "outputs": [
    {
     "name": "stdout",
     "output_type": "stream",
     "text": [
      "(WorldState) updated\n",
      "finaliza ataque\n"
     ]
    }
   ],
   "source": [
    "player.divide_and_conquer(game_data)"
   ]
  },
  {
   "cell_type": "code",
   "execution_count": 104,
   "metadata": {},
   "outputs": [
    {
     "ename": "IndexError",
     "evalue": "list index out of range",
     "output_type": "error",
     "traceback": [
      "\u001b[0;31m---------------------------------------------------------------------------\u001b[0m",
      "\u001b[0;31mIndexError\u001b[0m                                Traceback (most recent call last)",
      "\u001b[1;32m/home/udesc/war-challenge-ia/war-challenge-ml/war_challenge_ml/main.ipynb Cell 9\u001b[0m line \u001b[0;36m1\n\u001b[0;32m----> <a href='vscode-notebook-cell:/home/udesc/war-challenge-ia/war-challenge-ml/war_challenge_ml/main.ipynb#X11sZmlsZQ%3D%3D?line=0'>1</a>\u001b[0m player\u001b[39m.\u001b[39;49mmove()\n",
      "File \u001b[0;32m~/war-challenge-ia/war-challenge-ml/war_challenge_ml/scripts/player.py:139\u001b[0m, in \u001b[0;36mPlayer.move\u001b[0;34m(self)\u001b[0m\n\u001b[1;32m    133\u001b[0m         regionFortification[regionPosition] \u001b[39m+\u001b[39m\u001b[39m=\u001b[39m fortification\n\u001b[1;32m    135\u001b[0m best_moviments \u001b[39m=\u001b[39m [\n\u001b[1;32m    136\u001b[0m     \u001b[39mself\u001b[39m\u001b[39m.\u001b[39mfit(movement[\u001b[39m0\u001b[39m], movement[\u001b[39m1\u001b[39m], movement[\u001b[39m2\u001b[39m], regionFortification)\n\u001b[1;32m    137\u001b[0m     \u001b[39mfor\u001b[39;00m movement \u001b[39min\u001b[39;00m moviments\n\u001b[1;32m    138\u001b[0m ]\n\u001b[0;32m--> 139\u001b[0m best_moviment \u001b[39m=\u001b[39m best_moviments[\u001b[39m0\u001b[39;49m]\n\u001b[1;32m    140\u001b[0m \u001b[39mfor\u001b[39;00m movement \u001b[39min\u001b[39;00m best_moviments:\n\u001b[1;32m    141\u001b[0m     \u001b[39mif\u001b[39;00m movement[\u001b[39m3\u001b[39m] \u001b[39m>\u001b[39m best_moviment[\u001b[39m3\u001b[39m]:\n",
      "\u001b[0;31mIndexError\u001b[0m: list index out of range"
     ]
    }
   ],
   "source": [
    "player.move()"
   ]
  }
 ],
 "metadata": {
  "kernelspec": {
   "display_name": ".venv",
   "language": "python",
   "name": "python3"
  },
  "language_info": {
   "codemirror_mode": {
    "name": "ipython",
    "version": 3
   },
   "file_extension": ".py",
   "mimetype": "text/x-python",
   "name": "python",
   "nbconvert_exporter": "python",
   "pygments_lexer": "ipython3",
   "version": "3.11.3"
  },
  "orig_nbformat": 4
 },
 "nbformat": 4,
 "nbformat_minor": 2
}
