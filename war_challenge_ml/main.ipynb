{
 "cells": [
  {
   "cell_type": "code",
   "execution_count": 1,
   "metadata": {},
   "outputs": [
    {
     "name": "stdout",
     "output_type": "stream",
     "text": [
      "env: ENVIRONMENT=prod\n",
      "\u001b[34mInstalling dependencies from lock file\u001b[39m\n",
      "\n",
      "No dependencies to install or update\n",
      "\n",
      "\u001b[39;1mInstalling\u001b[39;22m the current project: \u001b[36mwar-challenge-ml\u001b[39m (\u001b[39;1m0.1.0\u001b[39;22m)\u001b[1G\u001b[2K\u001b[39;1mInstalling\u001b[39;22m the current project: \u001b[36mwar-challenge-ml\u001b[39m (\u001b[32m0.1.0\u001b[39m)\n"
     ]
    }
   ],
   "source": [
    "%env ENVIRONMENT prod\n",
    "!poetry install"
   ]
  },
  {
   "cell_type": "code",
   "execution_count": 2,
   "metadata": {},
   "outputs": [],
   "source": [
    "from war_challenge_computer_vision.main import get_data_from_path\n",
    "from war_challenge_computer_vision.read_map import PreprocessingConfig\n",
    "import glob\n",
    "from scripts.player import Player\n",
    "from scripts.army import Army\n",
    "from scripts.state import WorldState, RegionState\n",
    "from scripts.objectives import Objective\n",
    "from pathlib import Path\n",
    "import os"
   ]
  },
  {
   "cell_type": "code",
   "execution_count": 3,
   "metadata": {},
   "outputs": [],
   "source": [
    "%load_ext autoreload\n",
    "%autoreload 2"
   ]
  },
  {
   "cell_type": "code",
   "execution_count": 4,
   "metadata": {},
   "outputs": [],
   "source": [
    "army = Army.RED.value\n",
    "objective = Objective.CONQUER_BLUE.value\n",
    "player = Player(army = army, my_objective = objective)"
   ]
  },
  {
   "cell_type": "code",
   "execution_count": 5,
   "metadata": {},
   "outputs": [
    {
     "data": {
      "text/plain": [
       "0.0"
      ]
     },
     "execution_count": 5,
     "metadata": {},
     "output_type": "execute_result"
    }
   ],
   "source": [
    "player.worldState.getRegionState()[0].enemy_troops"
   ]
  },
  {
   "cell_type": "code",
   "execution_count": 5,
   "metadata": {},
   "outputs": [],
   "source": [
    "image_resize = (2000, 2000)\n",
    "image_resize_yellow = (2000, 2000)\n",
    "\n",
    "threshold = 150\n",
    "threshold_yellow = 210\n",
    "\n",
    "median_filter_footprint_size = 5\n",
    "blur_filter_footprint_size = 5\n",
    "\n",
    "dilate_times = 10\n",
    "erode_times = 15\n",
    "\n",
    "max_counter = 10\n",
    "erode_times_each_try = 5\n",
    "use_gpu = True\n",
    "\n",
    "config = PreprocessingConfig(\n",
    "    image_resize=image_resize,\n",
    "    image_resize_yellow=image_resize_yellow,\n",
    "    threshold=threshold,\n",
    "    threshold_yellow=threshold_yellow,\n",
    "    median_filter_footprint_size=median_filter_footprint_size,\n",
    "    blur_filter_footprint_size=blur_filter_footprint_size,\n",
    "    dilate_times=dilate_times,\n",
    "    erode_times=erode_times,\n",
    "    max_counter=max_counter,\n",
    "    erode_times_each_try=erode_times_each_try,\n",
    "    gpu=use_gpu\n",
    ")"
   ]
  },
  {
   "cell_type": "code",
   "execution_count": 30,
   "metadata": {},
   "outputs": [
    {
     "name": "stdout",
     "output_type": "stream",
     "text": [
      "/home/udesc/Pictures/Screenshots/Screenshot from 2023-09-15 20-39-46.png\n"
     ]
    },
    {
     "name": "stderr",
     "output_type": "stream",
     "text": [
      "Neither CUDA nor MPS are available - defaulting to CPU. Note: This module is much faster with a GPU.\n",
      "Neither CUDA nor MPS are available - defaulting to CPU. Note: This module is much faster with a GPU.\n",
      "Neither CUDA nor MPS are available - defaulting to CPU. Note: This module is much faster with a GPU.\n",
      "Neither CUDA nor MPS are available - defaulting to CPU. Note: This module is much faster with a GPU.\n",
      "Neither CUDA nor MPS are available - defaulting to CPU. Note: This module is much faster with a GPU.\n",
      "Neither CUDA nor MPS are available - defaulting to CPU. Note: This module is much faster with a GPU.\n",
      "Neither CUDA nor MPS are available - defaulting to CPU. Note: This module is much faster with a GPU.\n"
     ]
    },
    {
     "name": "stdout",
     "output_type": "stream",
     "text": [
      "Vancouver lightseagreen 1\n",
      "Peru_Bolivia_Chile firebrick 1\n",
      "Alaska goldenrod 1\n",
      "Spain_Portugal_France_Italy goldenrod 1\n",
      "Congo goldenrod 1\n",
      "Algeria_Nigeria goldenrod 1\n",
      "Sudan darkslateblue 1\n"
     ]
    }
   ],
   "source": [
    "pattern = str(Path(f\"{os.path.expanduser('~')}/Pictures/Screenshots/\").resolve()) + '/*'\n",
    "list_of_files = glob.glob(pattern)\n",
    "latest_file = max(list_of_files, key=os.path.getctime)\n",
    "print(latest_file)\n",
    "game_data = get_data_from_path(Path(latest_file), config)"
   ]
  },
  {
   "cell_type": "code",
   "execution_count": 13,
   "metadata": {},
   "outputs": [
    {
     "data": {
      "text/plain": [
       "([(Brazil, 3, 'firebrick'),\n",
       "  (Argentina_Uruguay, 1, 'firebrick'),\n",
       "  (Colombia_Venezuela, 1, 'firebrick'),\n",
       "  (Peru_Bolivia_Chile, 1, 'firebrick'),\n",
       "  (Mexico, 3, 'firebrick'),\n",
       "  (California, 3, 'firebrick'),\n",
       "  (New_York, 3, 'firebrick'),\n",
       "  (Labrador, 3, 'darkslateblue'),\n",
       "  (Ottawa, 3, 'darkslateblue'),\n",
       "  (Vancouver, 14, 'firebrick'),\n",
       "  (Mackenzie, 9, 'darkslateblue'),\n",
       "  (Alaska, 3, 'darkslateblue'),\n",
       "  (Greenland, 1, 'darkslateblue'),\n",
       "  (Iceland, 7, 'darkslateblue'),\n",
       "  (England, 1, 'darkslateblue'),\n",
       "  (Sweden, 3, 'darkslateblue'),\n",
       "  (Germany, 3, 'darkslateblue'),\n",
       "  (Spain_Portugal_France_Italy, 3, 'olivedrab'),\n",
       "  (Poland_Yugoslavia, 3, 'olivedrab'),\n",
       "  (Moscow, 3, 'olivedrab'),\n",
       "  (Algeria_Nigeria, 3, 'olivedrab'),\n",
       "  (Egypt, 1, 'olivedrab'),\n",
       "  (Congo, 1, 'lightseagreen'),\n",
       "  (Sudan, 3, 'olivedrab'),\n",
       "  (Madagascar, 1, 'firebrick'),\n",
       "  (South_Africa, 1, 'goldenrod'),\n",
       "  (Middle_East, 6, 'olivedrab'),\n",
       "  (Aral, 3, 'goldenrod'),\n",
       "  (Omsk, 5, 'goldenrod'),\n",
       "  (Dudinka, 2, 'goldenrod'),\n",
       "  (Siberia, 2, 'lightseagreen'),\n",
       "  (Tchita, 1, 'lightseagreen'),\n",
       "  (Mongolia, 2, 'goldenrod'),\n",
       "  (Vladivostok, 3, 'darkslateblue'),\n",
       "  (China, 3, 'goldenrod'),\n",
       "  (India, 3, 'olivedrab'),\n",
       "  (Japan, 10, 'lightseagreen'),\n",
       "  (Vietnam, 5, 'olivedrab'),\n",
       "  (Borneo, 1, 'olivedrab'),\n",
       "  (Sumatra, 1, 'olivedrab'),\n",
       "  (New_Guinea, 1, 'olivedrab'),\n",
       "  (Australia, 1, 'olivedrab')],\n",
       " array([[ True,  True,  True, ..., False, False, False],\n",
       "        [ True, False,  True, ..., False, False, False],\n",
       "        [ True, False,  True, ..., False, False, False],\n",
       "        ...,\n",
       "        [False, False, False, ..., False, False,  True],\n",
       "        [False, False, False, ...,  True, False,  True],\n",
       "        [False, False, False, ...,  True,  True,  True]]),\n",
       " alocacao)"
      ]
     },
     "execution_count": 13,
     "metadata": {},
     "output_type": "execute_result"
    }
   ],
   "source": [
    "game_data"
   ]
  },
  {
   "cell_type": "code",
   "execution_count": 100,
   "metadata": {},
   "outputs": [
    {
     "name": "stdout",
     "output_type": "stream",
     "text": [
      "(WorldState) updated\n"
     ]
    }
   ],
   "source": [
    "player.update(game_data)"
   ]
  },
  {
   "cell_type": "code",
   "execution_count": 31,
   "metadata": {},
   "outputs": [
    {
     "name": "stdout",
     "output_type": "stream",
     "text": [
      "(WorldState) updated\n",
      "finaliza ataque\n"
     ]
    }
   ],
   "source": [
    "player.divide_and_conquer(game_data,debug=False)"
   ]
  },
  {
   "cell_type": "code",
   "execution_count": 108,
   "metadata": {},
   "outputs": [
    {
     "name": "stdout",
     "output_type": "stream",
     "text": [
      "(WorldState) updated\n",
      "troop_Range (0, 2)\n",
      "troop_Range (0, 2)\n",
      "move added: Siberia 0 Tchita\n",
      "troop_Range (0, 3)\n",
      "troop_Range (0, 3)\n",
      "move added: China 0 Tchita\n",
      "chosen movements: [(<scripts.state.RegionState object at 0x7fdff080ca90>, <scripts.state.RegionState object at 0x7fdff080f3d0>, 0, 2.5), (<scripts.state.RegionState object at 0x7fdff080fed0>, <scripts.state.RegionState object at 0x7fdff080f3d0>, 0, -3.5)]\n",
      "finaliza movimentação\n",
      "\n"
     ]
    }
   ],
   "source": [
    "player.move(game_data)"
   ]
  },
  {
   "cell_type": "code",
   "execution_count": 32,
   "metadata": {},
   "outputs": [
    {
     "name": "stdout",
     "output_type": "stream",
     "text": [
      "(WorldState) updated\n",
      "bounds= [(0.0, 1.0)]\n",
      "type(args) <class 'tuple'>\n",
      "decode(0.5)= (1, [0])\n",
      "func(0.5)= -2.040909090909091\n",
      "result:      fun: -2.040909090909091\n",
      " message: 'Optimization terminated successfully.'\n",
      "    nfev: 32\n",
      "     nit: 1\n",
      " success: True\n",
      "       x: array([0.38655962]) <class 'scipy.optimize._optimize.OptimizeResult'>\n",
      "bounds= [(0.0, 1.0), (0.0, 1.0)]\n",
      "type(args) <class 'tuple'>\n",
      "decode(0.5)= (1, [0, 0])\n",
      "func(0.5)= -2.134659090909091\n",
      "result:      fun: -2.134659090909091\n",
      " message: 'Optimization terminated successfully.'\n",
      "    nfev: 63\n",
      "     nit: 1\n",
      " success: True\n",
      "       x: array([0.63336501, 0.7315143 ]) <class 'scipy.optimize._optimize.OptimizeResult'>\n",
      "bounds= [(0.0, 1.0)]\n",
      "type(args) <class 'tuple'>\n",
      "decode(0.5)= (1, [1])\n",
      "func(0.5)= -1.7837837837837838\n",
      "result:      fun: -1.7837837837837838\n",
      " message: 'Optimization terminated successfully.'\n",
      "    nfev: 47\n",
      "     nit: 2\n",
      " success: True\n",
      "       x: array([0.85052907]) <class 'scipy.optimize._optimize.OptimizeResult'>\n",
      "England  -( 1 )->  Iceland\n",
      "finaliza movimentação\n"
     ]
    }
   ],
   "source": [
    "player.optimized_move(game_data)"
   ]
  }
 ],
 "metadata": {
  "kernelspec": {
   "display_name": ".venv",
   "language": "python",
   "name": "python3"
  },
  "language_info": {
   "codemirror_mode": {
    "name": "ipython",
    "version": 3
   },
   "file_extension": ".py",
   "mimetype": "text/x-python",
   "name": "python",
   "nbconvert_exporter": "python",
   "pygments_lexer": "ipython3",
   "version": "3.11.3"
  },
  "orig_nbformat": 4
 },
 "nbformat": 4,
 "nbformat_minor": 2
}
