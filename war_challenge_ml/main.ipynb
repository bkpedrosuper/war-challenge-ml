{
 "cells": [
  {
   "cell_type": "code",
   "execution_count": 73,
   "metadata": {},
   "outputs": [
    {
     "name": "stdout",
     "output_type": "stream",
     "text": [
      "env: ENVIRONMENT=prod\n"
     ]
    }
   ],
   "source": [
    "%env ENVIRONMENT prod"
   ]
  },
  {
   "cell_type": "code",
   "execution_count": 86,
   "metadata": {},
   "outputs": [],
   "source": [
    "from war_challenge_computer_vision.main import get_data_from_path\n",
    "import glob\n",
    "from scripts.player import Player\n",
    "from scripts.army import Army\n",
    "from scripts.state import WorldState, RegionState\n",
    "from scripts.objectives import Objective\n",
    "from pathlib import Path\n",
    "import os"
   ]
  },
  {
   "cell_type": "code",
   "execution_count": 84,
   "metadata": {},
   "outputs": [
    {
     "name": "stdout",
     "output_type": "stream",
     "text": [
      "The autoreload extension is already loaded. To reload it, use:\n",
      "  %reload_ext autoreload\n"
     ]
    }
   ],
   "source": [
    "%load_ext autoreload\n",
    "%autoreload 2"
   ]
  },
  {
   "cell_type": "code",
   "execution_count": 85,
   "metadata": {},
   "outputs": [],
   "source": [
    "army = Army.BLUE.value\n",
    "objective = Objective.CONQUER_PURPLE.value\n",
    "player = Player(army = army, my_objective = objective)"
   ]
  },
  {
   "cell_type": "code",
   "execution_count": 52,
   "metadata": {},
   "outputs": [
    {
     "data": {
      "text/plain": [
       "0.0"
      ]
     },
     "execution_count": 52,
     "metadata": {},
     "output_type": "execute_result"
    }
   ],
   "source": [
    "player.worldState.getRegionState()[0].enemy_troops"
   ]
  },
  {
   "cell_type": "code",
   "execution_count": 103,
   "metadata": {},
   "outputs": [
    {
     "name": "stdout",
     "output_type": "stream",
     "text": [
      "/home/udesc/Pictures/Screenshots/Screenshot from 2023-09-14 16-38-25.png\n",
      "Iceland darkslateblue 1\n",
      "Sweden darkslateblue 1\n",
      "South_Africa goldenrod 1\n",
      "Mackenzie darkslateblue 1\n",
      "Congo lightseagreen 1\n",
      "Madagascar firebrick 1\n",
      "Japan lightseagreen 1\n",
      "Australia olivedrab 1\n"
     ]
    }
   ],
   "source": [
    "pattern = str(Path(f\"{os.path.expanduser('~')}/Pictures/Screenshots/\").resolve()) + '/*'\n",
    "list_of_files = glob.glob(pattern)\n",
    "latest_file = max(list_of_files, key=os.path.getctime)\n",
    "print(latest_file)\n",
    "game_data = get_data_from_path(Path(latest_file))"
   ]
  },
  {
   "cell_type": "code",
   "execution_count": 94,
   "metadata": {},
   "outputs": [
    {
     "name": "stdout",
     "output_type": "stream",
     "text": [
      "Congo\n",
      "Siberia\n",
      "Tchita\n",
      "Vladivostok\n",
      "China\n",
      "Japan\n"
     ]
    }
   ],
   "source": [
    "for elemento in player.worldState.getRegionState():\n",
    "    if player.is_mine(elemento):\n",
    "        print(elemento.name)"
   ]
  },
  {
   "cell_type": "code",
   "execution_count": 104,
   "metadata": {},
   "outputs": [
    {
     "data": {
      "text/plain": [
       "([(Brazil, 3, 'firebrick'),\n",
       "  (Argentina_Uruguay, 1, 'firebrick'),\n",
       "  (Colombia_Venezuela, 1, 'firebrick'),\n",
       "  (Peru_Bolivia_Chile, 1, 'firebrick'),\n",
       "  (Mexico, 3, 'firebrick'),\n",
       "  (California, 3, 'firebrick'),\n",
       "  (New_York, 3, 'firebrick'),\n",
       "  (Labrador, 3, 'darkslateblue'),\n",
       "  (Ottawa, 3, 'darkslateblue'),\n",
       "  (Vancouver, 1, 'firebrick'),\n",
       "  (Mackenzie, 1, 'darkslateblue'),\n",
       "  (Alaska, 3, 'darkslateblue'),\n",
       "  (Greenland, 1, 'darkslateblue'),\n",
       "  (Iceland, 1, 'darkslateblue'),\n",
       "  (England, 1, 'darkslateblue'),\n",
       "  (Sweden, 1, 'darkslateblue'),\n",
       "  (Germany, 3, 'darkslateblue'),\n",
       "  (Spain_Portugal_France_Italy, 3, 'olivedrab'),\n",
       "  (Poland_Yugoslavia, 3, 'olivedrab'),\n",
       "  (Moscow, 3, 'olivedrab'),\n",
       "  (Algeria_Nigeria, 3, 'olivedrab'),\n",
       "  (Egypt, 1, 'olivedrab'),\n",
       "  (Congo, 1, 'lightseagreen'),\n",
       "  (Sudan, 3, 'olivedrab'),\n",
       "  (Madagascar, 1, 'firebrick'),\n",
       "  (South_Africa, 1, 'goldenrod'),\n",
       "  (Middle_East, 6, 'olivedrab'),\n",
       "  (Aral, 3, 'goldenrod'),\n",
       "  (Omsk, 2, 'goldenrod'),\n",
       "  (Dudinka, 2, 'goldenrod'),\n",
       "  (Siberia, 2, 'lightseagreen'),\n",
       "  (Tchita, 1, 'lightseagreen'),\n",
       "  (Mongolia, 2, 'goldenrod'),\n",
       "  (Vladivostok, 1, 'lightseagreen'),\n",
       "  (China, 3, 'lightseagreen'),\n",
       "  (India, 3, 'olivedrab'),\n",
       "  (Japan, 1, 'lightseagreen'),\n",
       "  (Vietnam, 5, 'olivedrab'),\n",
       "  (Borneo, 1, 'olivedrab'),\n",
       "  (Sumatra, 1, 'olivedrab'),\n",
       "  (New_Guinea, 1, 'olivedrab'),\n",
       "  (Australia, 1, 'olivedrab')],\n",
       " array([[ True,  True,  True, ..., False, False, False],\n",
       "        [ True, False,  True, ..., False, False, False],\n",
       "        [ True, False,  True, ..., False, False, False],\n",
       "        ...,\n",
       "        [False, False, False, ..., False, False,  True],\n",
       "        [False, False, False, ...,  True, False,  True],\n",
       "        [False, False, False, ...,  True,  True,  True]]),\n",
       " ataque)"
      ]
     },
     "execution_count": 104,
     "metadata": {},
     "output_type": "execute_result"
    }
   ],
   "source": [
    "game_data"
   ]
  },
  {
   "cell_type": "code",
   "execution_count": 100,
   "metadata": {},
   "outputs": [
    {
     "name": "stdout",
     "output_type": "stream",
     "text": [
      "(WorldState) updated\n"
     ]
    }
   ],
   "source": [
    "player.update(game_data)"
   ]
  },
  {
   "cell_type": "code",
   "execution_count": 107,
   "metadata": {},
   "outputs": [
    {
     "name": "stdout",
     "output_type": "stream",
     "text": [
      "(WorldState) updated\n",
      "[]\n",
      "finaliza ataque\n"
     ]
    }
   ],
   "source": [
    "player.divide_and_conquer(game_data,debug=True)"
   ]
  },
  {
   "cell_type": "code",
   "execution_count": 108,
   "metadata": {},
   "outputs": [
    {
     "name": "stdout",
     "output_type": "stream",
     "text": [
      "(WorldState) updated\n",
      "troop_Range (0, 2)\n",
      "troop_Range (0, 2)\n",
      "move added: Siberia 0 Tchita\n",
      "troop_Range (0, 3)\n",
      "troop_Range (0, 3)\n",
      "move added: China 0 Tchita\n",
      "chosen movements: [(<scripts.state.RegionState object at 0x7fdff080ca90>, <scripts.state.RegionState object at 0x7fdff080f3d0>, 0, 2.5), (<scripts.state.RegionState object at 0x7fdff080fed0>, <scripts.state.RegionState object at 0x7fdff080f3d0>, 0, -3.5)]\n",
      "finaliza movimentação\n",
      "\n"
     ]
    }
   ],
   "source": [
    "player.move(game_data)"
   ]
  },
  {
   "cell_type": "code",
   "execution_count": 91,
   "metadata": {},
   "outputs": [
    {
     "data": {
      "text/plain": [
       "0.0"
      ]
     },
     "execution_count": 91,
     "metadata": {},
     "output_type": "execute_result"
    }
   ],
   "source": [
    "player.worldState.getRegionState()[0].ally_troops"
   ]
  },
  {
   "cell_type": "code",
   "execution_count": 109,
   "metadata": {},
   "outputs": [
    {
     "name": "stdout",
     "output_type": "stream",
     "text": [
      "(WorldState) updated\n",
      "func\n",
      "Siberia ->  0 Vladivostok, 0 Tchita, ,fit: -2.5\n",
      "Siberia ->  0 Vladivostok, 0 Tchita, ,fit: -2.5\n",
      "Siberia ->  0 Vladivostok, 0 Tchita, ,fit: -2.5\n",
      "Siberia ->  0 Vladivostok, 0 Tchita, ,fit: -2.5\n",
      "Siberia ->  0 Vladivostok, 0 Tchita, ,fit: -2.5\n",
      "Siberia ->  0 Vladivostok, 0 Tchita, ,fit: -2.5\n",
      "Siberia ->  0 Vladivostok, 0 Tchita, ,fit: -2.5\n",
      "Siberia ->  0 Vladivostok, 0 Tchita, ,fit: -2.5\n",
      "Siberia ->  0 Vladivostok, 0 Tchita, ,fit: -2.5\n",
      "Siberia ->  0 Vladivostok, 0 Tchita, ,fit: -2.5\n",
      "Siberia ->  0 Vladivostok, 0 Tchita, ,fit: -2.5\n",
      "Siberia ->  0 Vladivostok, 0 Tchita, ,fit: -2.5\n",
      "Siberia ->  0 Vladivostok, 0 Tchita, ,fit: -2.5\n",
      "Siberia ->  0 Vladivostok, 0 Tchita, ,fit: -2.5\n",
      "Siberia ->  0 Vladivostok, 0 Tchita, ,fit: -2.5\n",
      "Siberia ->  0 Vladivostok, 0 Tchita, ,fit: -2.5\n",
      "Siberia ->  0 Vladivostok, 0 Tchita, ,fit: -2.5\n",
      "Siberia ->  0 Vladivostok, 0 Tchita, ,fit: -2.5\n",
      "Siberia ->  0 Vladivostok, 0 Tchita, ,fit: -2.5\n",
      "Siberia ->  0 Vladivostok, 0 Tchita, ,fit: -2.5\n",
      "Siberia ->  0 Vladivostok, 0 Tchita, ,fit: -2.5\n",
      "Siberia ->  0 Vladivostok, 0 Tchita, ,fit: -2.5\n",
      "Siberia ->  0 Vladivostok, 0 Tchita, ,fit: -2.5\n",
      "Siberia ->  0 Vladivostok, 0 Tchita, ,fit: -2.5\n",
      "Siberia ->  0 Vladivostok, 0 Tchita, ,fit: -2.5\n",
      "Siberia ->  0 Vladivostok, 0 Tchita, ,fit: -2.5\n",
      "Siberia ->  0 Vladivostok, 0 Tchita, ,fit: -2.5\n",
      "Siberia ->  0 Vladivostok, 0 Tchita, ,fit: -2.5\n",
      "Siberia ->  0 Vladivostok, 0 Tchita, ,fit: -2.5\n",
      "Siberia ->  0 Vladivostok, 0 Tchita, ,fit: -2.5\n",
      "Siberia ->  0 Vladivostok, 0 Tchita, ,fit: -2.5\n",
      "Siberia ->  0 Vladivostok, 0 Tchita, ,fit: -2.5\n",
      "Siberia ->  0 Vladivostok, 0 Tchita, ,fit: -2.5\n",
      "Siberia ->  0 Vladivostok, 0 Tchita, ,fit: -2.5\n",
      "Siberia ->  0 Vladivostok, 0 Tchita, ,fit: -2.5\n",
      "Siberia ->  0 Vladivostok, 0 Tchita, ,fit: -2.5\n",
      "Siberia ->  0 Vladivostok, 0 Tchita, ,fit: -2.5\n",
      "Siberia ->  0 Vladivostok, 0 Tchita, ,fit: -2.5\n",
      "Siberia ->  0 Vladivostok, 0 Tchita, ,fit: -2.5\n",
      "Siberia ->  0 Vladivostok, 0 Tchita, ,fit: -2.5\n",
      "Siberia ->  0 Vladivostok, 0 Tchita, ,fit: -2.5\n",
      "Siberia ->  0 Vladivostok, 0 Tchita, ,fit: -2.5\n",
      "Siberia ->  0 Vladivostok, 0 Tchita, ,fit: -2.5\n",
      "Siberia ->  0 Vladivostok, 0 Tchita, ,fit: -2.5\n",
      "Siberia ->  0 Vladivostok, 0 Tchita, ,fit: -2.5\n",
      "Siberia ->  0 Vladivostok, 0 Tchita, ,fit: -2.5\n",
      "Siberia ->  0 Vladivostok, 0 Tchita, ,fit: -2.5\n",
      "Siberia ->  0 Vladivostok, 0 Tchita, ,fit: -2.5\n",
      "Siberia ->  0 Vladivostok, 0 Tchita, ,fit: -2.5\n",
      "Siberia ->  0 Vladivostok, 0 Tchita, ,fit: -2.5\n",
      "Siberia ->  0 Vladivostok, 0 Tchita, ,fit: -2.5\n",
      "Siberia ->  0 Vladivostok, 0 Tchita, ,fit: -2.5\n",
      "Siberia ->  0 Vladivostok, 0 Tchita, ,fit: -2.5\n",
      "Siberia ->  0 Vladivostok, 0 Tchita, ,fit: -2.5\n",
      "Siberia ->  0 Vladivostok, 0 Tchita, ,fit: -2.5\n",
      "Siberia ->  0 Vladivostok, 0 Tchita, ,fit: -2.5\n",
      "Siberia ->  0 Vladivostok, 0 Tchita, ,fit: -2.5\n",
      "Siberia ->  0 Vladivostok, 0 Tchita, ,fit: -2.5\n",
      "Siberia ->  0 Vladivostok, 0 Tchita, ,fit: -2.5\n",
      "Siberia ->  0 Vladivostok, 0 Tchita, ,fit: -2.5\n",
      "Siberia ->  0 Vladivostok, 0 Tchita, ,fit: -2.5\n",
      "Siberia ->  0 Vladivostok, 0 Tchita, ,fit: -2.5\n",
      "Siberia ->  0 Vladivostok, 0 Tchita, ,fit: -2.5\n",
      "func\n",
      "China ->  1 Tchita, 0 Vladivostok, ,fit: 5.5\n",
      "China ->  0 Tchita, 0 Vladivostok, ,fit: 8.5\n",
      "China ->  1 Tchita, 0 Vladivostok, ,fit: 5.5\n",
      "China ->  0 Tchita, 1 Vladivostok, ,fit: 5.5\n",
      "China ->  0 Tchita, 0 Vladivostok, ,fit: 8.5\n",
      "China ->  1 Tchita, 0 Vladivostok, ,fit: 5.5\n",
      "China ->  1 Tchita, 0 Vladivostok, ,fit: 5.5\n",
      "China ->  0 Tchita, 0 Vladivostok, ,fit: 8.5\n",
      "China ->  0 Tchita, 0 Vladivostok, ,fit: 8.5\n",
      "China ->  1 Tchita, 0 Vladivostok, ,fit: 5.5\n",
      "China ->  0 Tchita, 1 Vladivostok, ,fit: 5.5\n",
      "China ->  0 Tchita, 1 Vladivostok, ,fit: 5.5\n",
      "China ->  1 Tchita, 0 Vladivostok, ,fit: 5.5\n",
      "China ->  0 Tchita, 0 Vladivostok, ,fit: 8.5\n",
      "China ->  1 Tchita, 0 Vladivostok, ,fit: 5.5\n",
      "China ->  1 Tchita, 0 Vladivostok, ,fit: 5.5\n",
      "China ->  0 Tchita, 0 Vladivostok, ,fit: 8.5\n",
      "China ->  1 Tchita, 0 Vladivostok, ,fit: 5.5\n",
      "China ->  0 Tchita, 1 Vladivostok, ,fit: 5.5\n",
      "China ->  1 Tchita, 0 Vladivostok, ,fit: 5.5\n",
      "China ->  0 Tchita, 1 Vladivostok, ,fit: 5.5\n",
      "China ->  0 Tchita, 0 Vladivostok, ,fit: 8.5\n",
      "China ->  1 Tchita, 0 Vladivostok, ,fit: 5.5\n",
      "China ->  1 Tchita, 0 Vladivostok, ,fit: 5.5\n",
      "China ->  1 Tchita, 0 Vladivostok, ,fit: 5.5\n",
      "China ->  1 Tchita, 0 Vladivostok, ,fit: 5.5\n",
      "China ->  0 Tchita, 0 Vladivostok, ,fit: 8.5\n",
      "China ->  0 Tchita, 0 Vladivostok, ,fit: 8.5\n",
      "China ->  0 Tchita, 1 Vladivostok, ,fit: 5.5\n",
      "China ->  1 Tchita, 0 Vladivostok, ,fit: 5.5\n",
      "China ->  1 Tchita, 0 Vladivostok, ,fit: 5.5\n",
      "China ->  1 Tchita, 0 Vladivostok, ,fit: 5.5\n",
      "China ->  1 Tchita, 0 Vladivostok, ,fit: 5.5\n",
      "China ->  1 Tchita, 0 Vladivostok, ,fit: 5.5\n",
      "China ->  0 Tchita, 0 Vladivostok, ,fit: 8.5\n",
      "China ->  1 Tchita, 0 Vladivostok, ,fit: 5.5\n",
      "China ->  0 Tchita, 1 Vladivostok, ,fit: 5.5\n",
      "China ->  0 Tchita, 0 Vladivostok, ,fit: 8.5\n",
      "China ->  0 Tchita, 1 Vladivostok, ,fit: 5.5\n",
      "China ->  0 Tchita, 1 Vladivostok, ,fit: 5.5\n",
      "China ->  1 Tchita, 0 Vladivostok, ,fit: 5.5\n",
      "China ->  1 Tchita, 0 Vladivostok, ,fit: 5.5\n",
      "China ->  0 Tchita, 1 Vladivostok, ,fit: 5.5\n",
      "China ->  0 Tchita, 0 Vladivostok, ,fit: 8.5\n",
      "China ->  0 Tchita, 1 Vladivostok, ,fit: 5.5\n",
      "China ->  1 Tchita, 0 Vladivostok, ,fit: 5.5\n",
      "China ->  1 Tchita, 0 Vladivostok, ,fit: 5.5\n",
      "China ->  1 Tchita, 0 Vladivostok, ,fit: 5.5\n",
      "China ->  0 Tchita, 1 Vladivostok, ,fit: 5.5\n",
      "China ->  1 Tchita, 0 Vladivostok, ,fit: 5.5\n",
      "China ->  1 Tchita, 0 Vladivostok, ,fit: 5.5\n",
      "China ->  1 Tchita, 0 Vladivostok, ,fit: 5.5\n",
      "China ->  1 Tchita, 0 Vladivostok, ,fit: 5.5\n",
      "China ->  1 Tchita, 0 Vladivostok, ,fit: 5.5\n",
      "China ->  0 Tchita, 1 Vladivostok, ,fit: 5.5\n",
      "China ->  1 Tchita, 0 Vladivostok, ,fit: 5.5\n",
      "China ->  1 Tchita, 0 Vladivostok, ,fit: 5.5\n",
      "China ->  1 Tchita, 0 Vladivostok, ,fit: 5.5\n",
      "China ->  0 Tchita, 0 Vladivostok, ,fit: 8.5\n",
      "China ->  0 Tchita, 1 Vladivostok, ,fit: 5.5\n",
      "China ->  1 Tchita, 0 Vladivostok, ,fit: 5.5\n",
      "China ->  1 Tchita, 0 Vladivostok, ,fit: 5.5\n",
      "China ->  0 Tchita, 1 Vladivostok, ,fit: 5.5\n",
      "China ->  1 Tchita, 0 Vladivostok, ,fit: 5.5\n",
      "China ->  0 Tchita, 1 Vladivostok, ,fit: 5.5\n",
      "China ->  1 Tchita, 0 Vladivostok, ,fit: 5.5\n",
      "China ->  1 Tchita, 0 Vladivostok, ,fit: 5.5\n",
      "China ->  1 Tchita, 0 Vladivostok, ,fit: 5.5\n",
      "China ->  1 Tchita, 0 Vladivostok, ,fit: 5.5\n",
      "China ->  0 Tchita, 1 Vladivostok, ,fit: 5.5\n",
      "China ->  1 Tchita, 0 Vladivostok, ,fit: 5.5\n",
      "China ->  1 Tchita, 0 Vladivostok, ,fit: 5.5\n",
      "China ->  1 Tchita, 0 Vladivostok, ,fit: 5.5\n",
      "China ->  0 Tchita, 1 Vladivostok, ,fit: 5.5\n",
      "China ->  0 Tchita, 1 Vladivostok, ,fit: 5.5\n",
      "China ->  0 Tchita, 1 Vladivostok, ,fit: 5.5\n",
      "China ->  0 Tchita, 1 Vladivostok, ,fit: 5.5\n",
      "China ->  1 Tchita, 0 Vladivostok, ,fit: 5.5\n",
      "China ->  0 Tchita, 0 Vladivostok, ,fit: 8.5\n",
      "China ->  1 Tchita, 0 Vladivostok, ,fit: 5.5\n",
      "China ->  1 Tchita, 0 Vladivostok, ,fit: 5.5\n",
      "China ->  0 Tchita, 1 Vladivostok, ,fit: 5.5\n",
      "China ->  1 Tchita, 0 Vladivostok, ,fit: 5.5\n",
      "China ->  0 Tchita, 1 Vladivostok, ,fit: 5.5\n",
      "China ->  1 Tchita, 0 Vladivostok, ,fit: 5.5\n",
      "China ->  1 Tchita, 0 Vladivostok, ,fit: 5.5\n",
      "China ->  1 Tchita, 0 Vladivostok, ,fit: 5.5\n",
      "China ->  0 Tchita, 1 Vladivostok, ,fit: 5.5\n",
      "China ->  0 Tchita, 1 Vladivostok, ,fit: 5.5\n",
      "China ->  1 Tchita, 0 Vladivostok, ,fit: 5.5\n",
      "China ->  1 Tchita, 0 Vladivostok, ,fit: 5.5\n",
      "China ->  1 Tchita, 0 Vladivostok, ,fit: 5.5\n",
      "China ->  1 Tchita, 0 Vladivostok, ,fit: 5.5\n",
      "China  -( 1 )->  Tchita\n",
      "finaliza movimentação\n"
     ]
    }
   ],
   "source": [
    "player.optimized_move(game_data)"
   ]
  }
 ],
 "metadata": {
  "kernelspec": {
   "display_name": ".venv",
   "language": "python",
   "name": "python3"
  },
  "language_info": {
   "codemirror_mode": {
    "name": "ipython",
    "version": 3
   },
   "file_extension": ".py",
   "mimetype": "text/x-python",
   "name": "python",
   "nbconvert_exporter": "python",
   "pygments_lexer": "ipython3",
   "version": "3.11.3"
  },
  "orig_nbformat": 4
 },
 "nbformat": 4,
 "nbformat_minor": 2
}
