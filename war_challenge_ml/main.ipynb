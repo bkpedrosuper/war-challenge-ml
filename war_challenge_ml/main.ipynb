{
 "cells": [
  {
   "cell_type": "code",
   "execution_count": 1,
   "metadata": {},
   "outputs": [
    {
     "name": "stdout",
     "output_type": "stream",
     "text": [
      "env: ENVIRONMENT=prod\n"
     ]
    }
   ],
   "source": [
    "%env ENVIRONMENT prod"
   ]
  },
  {
   "cell_type": "code",
   "execution_count": 2,
   "metadata": {},
   "outputs": [],
   "source": [
    "from war_challenge_computer_vision.main import get_data_from_path\n",
    "import glob\n",
    "from scripts.player import Player\n",
    "from scripts.army import Army\n",
    "from scripts.state import WorldState, RegionState\n",
    "from scripts.objectives import Objective\n",
    "from pathlib import Path\n",
    "import os"
   ]
  },
  {
   "cell_type": "code",
   "execution_count": 3,
   "metadata": {},
   "outputs": [],
   "source": [
    "%load_ext autoreload\n",
    "%autoreload 2"
   ]
  },
  {
   "cell_type": "code",
   "execution_count": 41,
   "metadata": {},
   "outputs": [],
   "source": [
    "army = Army.BLUE.value\n",
    "objective = Objective.CONQUER_PURPLE.value\n",
    "player = Player(army = army, my_objective = objective)"
   ]
  },
  {
   "cell_type": "code",
   "execution_count": 117,
   "metadata": {},
   "outputs": [
    {
     "name": "stdout",
     "output_type": "stream",
     "text": [
      "/home/udesc/Pictures/Screenshots/Pasted image.png\n",
      "Egypt olivedrab 1\n",
      "Mackenzie darkslateblue 1\n",
      "Vietnam olivedrab 1\n",
      "Tchita lightseagreen 1\n",
      "Australia olivedrab 1\n"
     ]
    }
   ],
   "source": [
    "pattern = str(Path(f\"{os.path.expanduser('~')}/Pictures/Screenshots/\").resolve()) + '/*'\n",
    "list_of_files = glob.glob(pattern)\n",
    "latest_file = max(list_of_files, key=os.path.getctime)\n",
    "print(latest_file)\n",
    "game_data = get_data_from_path(Path(latest_file))"
   ]
  },
  {
   "cell_type": "code",
   "execution_count": 115,
   "metadata": {},
   "outputs": [
    {
     "data": {
      "text/plain": [
       "([(Brazil, 30, 'firebrick'),\n",
       "  (Argentina_Uruguay, 1, 'firebrick'),\n",
       "  (Colombia_Venezuela, 1, 'firebrick'),\n",
       "  (Peru_Bolivia_Chile, 1, 'firebrick'),\n",
       "  (Mexico, 30, 'firebrick'),\n",
       "  (California, 30, 'firebrick'),\n",
       "  (New_York, 30, 'firebrick'),\n",
       "  (Labrador, 30, 'darkslateblue'),\n",
       "  (Ottawa, 30, 'darkslateblue'),\n",
       "  (Vancouver, 4, 'firebrick'),\n",
       "  (Mackenzie, 1, 'darkslateblue'),\n",
       "  (Alaska, 30, 'darkslateblue'),\n",
       "  (Greenland, 1, 'darkslateblue'),\n",
       "  (Iceland, 1, 'darkslateblue'),\n",
       "  (England, 1, 'darkslateblue'),\n",
       "  (Sweden, 30, 'darkslateblue'),\n",
       "  (Germany, 30, 'darkslateblue'),\n",
       "  (Spain_Portugal_France_Italy, 30, 'olivedrab'),\n",
       "  (Poland_Yugoslavia, 3, 'olivedrab'),\n",
       "  (Moscow, 30, 'olivedrab'),\n",
       "  (Algeria_Nigeria, 30, 'olivedrab'),\n",
       "  (Egypt, 1, 'olivedrab'),\n",
       "  (Congo, 41, 'lightseagreen'),\n",
       "  (Sudan, 30, 'olivedrab'),\n",
       "  (Madagascar, 1, 'firebrick'),\n",
       "  (South_Africa, 1, 'goldenrod'),\n",
       "  (Middle_East, 6, 'olivedrab'),\n",
       "  (Aral, 3, 'goldenrod'),\n",
       "  (Omsk, 5, 'goldenrod'),\n",
       "  (Dudinka, 2, 'goldenrod'),\n",
       "  (Siberia, 2, 'lightseagreen'),\n",
       "  (Tchita, 1, 'lightseagreen'),\n",
       "  (Mongolia, 2, 'goldenrod'),\n",
       "  (Vladivostok, 1, 'lightseagreen'),\n",
       "  (China, 3, 'lightseagreen'),\n",
       "  (India, 3, 'olivedrab'),\n",
       "  (Japan, 6, 'lightseagreen'),\n",
       "  (Vietnam, 1, 'olivedrab'),\n",
       "  (Borneo, 1, 'olivedrab'),\n",
       "  (Sumatra, 1, 'olivedrab'),\n",
       "  (New_Guinea, 1, 'olivedrab'),\n",
       "  (Australia, 1, 'olivedrab')],\n",
       " array([[ True,  True,  True, ..., False, False, False],\n",
       "        [ True, False,  True, ..., False, False, False],\n",
       "        [ True, False,  True, ..., False, False, False],\n",
       "        ...,\n",
       "        [False, False, False, ..., False, False,  True],\n",
       "        [False, False, False, ...,  True, False,  True],\n",
       "        [False, False, False, ...,  True,  True,  True]]),\n",
       " ataque)"
      ]
     },
     "execution_count": 115,
     "metadata": {},
     "output_type": "execute_result"
    }
   ],
   "source": [
    "game_data"
   ]
  },
  {
   "cell_type": "code",
   "execution_count": 59,
   "metadata": {},
   "outputs": [
    {
     "name": "stdout",
     "output_type": "stream",
     "text": [
      "(WorldState) updated\n"
     ]
    }
   ],
   "source": [
    "player.update(game_data)"
   ]
  },
  {
   "cell_type": "code",
   "execution_count": 120,
   "metadata": {},
   "outputs": [
    {
     "name": "stdout",
     "output_type": "stream",
     "text": [
      "(WorldState) updated\n",
      "[('Congo', 'Algeria_Nigeria', -100.5), ('Congo', 'South_Africa', -11.5), ('Congo', 'Sudan', -42.5), ('China', 'Vietnam', -3.5)]\n",
      "China ataca Vietnam (fit value =  -3.5 )\n"
     ]
    }
   ],
   "source": [
    "player.divide_and_conquer(game_data,debug=True)"
   ]
  },
  {
   "cell_type": "code",
   "execution_count": 183,
   "metadata": {},
   "outputs": [
    {
     "name": "stdout",
     "output_type": "stream",
     "text": [
      "troop_Range (0, 2)\n",
      "troop_Range (0, 2)\n",
      "move added: Siberia 0 Tchita\n",
      "troop_Range (0, 3)\n",
      "troop_Range (0, 3)\n",
      "move added: China 2 Vladivostok\n",
      "troop_Range (0, 6)\n",
      "troop_Range (0, 6)\n",
      "move added: Japan 3 Vladivostok\n",
      "chosen movements: [(<scripts.state.RegionState object at 0x7f8223517ed0>, <scripts.state.RegionState object at 0x7f8223516990>, 0, 2.5), (<scripts.state.RegionState object at 0x7f8223515610>, <scripts.state.RegionState object at 0x7f8223515f50>, 3, -10.0), (<scripts.state.RegionState object at 0x7f8223517490>, <scripts.state.RegionState object at 0x7f8223515f50>, 2, -20.2)]\n",
      "Japan  -( 3 )->  Vladivostok\n",
      "China  -( 2 )->  Vladivostok\n",
      "finaliza movimentação\n",
      "\n"
     ]
    }
   ],
   "source": [
    "player.move()"
   ]
  },
  {
   "cell_type": "code",
   "execution_count": 208,
   "metadata": {},
   "outputs": [
    {
     "name": "stdout",
     "output_type": "stream",
     "text": [
      "Japan  -( 2 )->  Vladivostok\n",
      "Japan  -( 1 )->  China\n",
      "finaliza movimentação\n"
     ]
    }
   ],
   "source": [
    "player.optimized_move()"
   ]
  }
 ],
 "metadata": {
  "kernelspec": {
   "display_name": ".venv",
   "language": "python",
   "name": "python3"
  },
  "language_info": {
   "codemirror_mode": {
    "name": "ipython",
    "version": 3
   },
   "file_extension": ".py",
   "mimetype": "text/x-python",
   "name": "python",
   "nbconvert_exporter": "python",
   "pygments_lexer": "ipython3",
   "version": "3.11.3"
  },
  "orig_nbformat": 4
 },
 "nbformat": 4,
 "nbformat_minor": 2
}
