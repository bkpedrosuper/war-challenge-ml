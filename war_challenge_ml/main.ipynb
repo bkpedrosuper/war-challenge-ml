{
 "cells": [
  {
   "cell_type": "code",
   "execution_count": 1,
   "metadata": {},
   "outputs": [
    {
     "name": "stdout",
     "output_type": "stream",
     "text": [
      "env: ENVIRONMENT=prod\n",
      "\u001b[34mInstalling dependencies from lock file\u001b[39m\n",
      "\n",
      "No dependencies to install or update\n",
      "\n",
      "\u001b[39;1mInstalling\u001b[39;22m the current project: \u001b[36mwar-challenge-ml\u001b[39m (\u001b[39;1m0.1.0\u001b[39;22m)\u001b[1G\u001b[2K\u001b[39;1mInstalling\u001b[39;22m the current project: \u001b[36mwar-challenge-ml\u001b[39m (\u001b[32m0.1.0\u001b[39m)\n"
     ]
    }
   ],
   "source": [
    "%env ENVIRONMENT prod\n",
    "!poetry install"
   ]
  },
  {
   "cell_type": "code",
   "execution_count": 2,
   "metadata": {},
   "outputs": [],
   "source": [
    "from war_challenge_computer_vision.main import get_data_from_path\n",
    "from war_challenge_computer_vision.read_map import PreprocessingConfig\n",
    "import glob\n",
    "from scripts.player import Player\n",
    "from scripts.army import Army\n",
    "from scripts.state import WorldState, RegionState\n",
    "from scripts.objectives import Objective\n",
    "from pathlib import Path\n",
    "import os"
   ]
  },
  {
   "cell_type": "code",
   "execution_count": 3,
   "metadata": {},
   "outputs": [],
   "source": [
    "%load_ext autoreload\n",
    "%autoreload 2"
   ]
  },
  {
   "cell_type": "markdown",
   "metadata": {},
   "source": [
    "    INICIO"
   ]
  },
  {
   "cell_type": "code",
   "execution_count": 4,
   "metadata": {},
   "outputs": [],
   "source": [
    "army = Army.BLUE.value\n",
    "objective = Objective.CONQUER_EU_SA_PLUS_ONE.value\n",
    "player = Player(army = army, my_objective = objective)"
   ]
  },
  {
   "cell_type": "markdown",
   "metadata": {},
   "source": [
    "    OCR"
   ]
  },
  {
   "cell_type": "code",
   "execution_count": 5,
   "metadata": {},
   "outputs": [],
   "source": [
    "image_resize = (1500, 1500)\n",
    "image_resize_yellow = (2000, 2000)\n",
    "\n",
    "threshold = 185\n",
    "threshold_yellow = 185\n",
    "\n",
    "median_filter_footprint_size = 5\n",
    "blur_filter_footprint_size = 5\n",
    "\n",
    "dilate_times = 10\n",
    "#Entre 15 e 20\n",
    "erode_times = 15\n",
    "\n",
    "max_counter = 5\n",
    "erode_times_each_try = 5\n",
    "use_gpu = True\n",
    "\n",
    "use_easyocr = False\n",
    "\n",
    "config = PreprocessingConfig(\n",
    "    image_resize=image_resize,\n",
    "    image_resize_yellow=image_resize_yellow,\n",
    "    threshold=threshold,\n",
    "    threshold_yellow=threshold_yellow,\n",
    "    median_filter_footprint_size=median_filter_footprint_size,\n",
    "    blur_filter_footprint_size=blur_filter_footprint_size,\n",
    "    dilate_times=dilate_times,\n",
    "    erode_times=erode_times,\n",
    "    max_counter=max_counter,\n",
    "    erode_times_each_try=erode_times_each_try,\n",
    "    gpu=use_gpu,\n",
    "    use_easyocr=use_easyocr,\n",
    ")"
   ]
  },
  {
   "cell_type": "markdown",
   "metadata": {},
   "source": [
    "    LER ESTADO DO JOGO"
   ]
  },
  {
   "cell_type": "code",
   "execution_count": 23,
   "metadata": {},
   "outputs": [
    {
     "name": "stdout",
     "output_type": "stream",
     "text": [
      "/home/udesc/Pictures/Screenshots/Screenshot from 2023-09-16 14-08-18.png\n"
     ]
    }
   ],
   "source": [
    "pattern = str(Path(f\"{os.path.expanduser('~')}/Pictures/Screenshots/\").resolve()) + '/*'\n",
    "list_of_files = glob.glob(pattern)\n",
    "latest_file = max(list_of_files, key=os.path.getctime)\n",
    "print(latest_file)\n",
    "game_data = get_data_from_path(Path(latest_file), config)"
   ]
  },
  {
   "cell_type": "code",
   "execution_count": 13,
   "metadata": {},
   "outputs": [
    {
     "data": {
      "text/plain": [
       "([(Brazil, 1, 'olivedrab'),\n",
       "  (Argentina_Uruguay, 1, 'lightseagreen'),\n",
       "  (Colombia_Venezuela, 4, 'goldenrod'),\n",
       "  (Peru_Bolivia_Chile, 1, 'lightseagreen'),\n",
       "  (Mexico, 1, 'goldenrod'),\n",
       "  (California, 1, 'olivedrab'),\n",
       "  (New_York, 1, 'darkslateblue'),\n",
       "  (Labrador, 7, 'goldenrod'),\n",
       "  (Ottawa, 1, 'darkslateblue'),\n",
       "  (Vancouver, 1, 'darkslateblue'),\n",
       "  (Mackenzie, 1, 'goldenrod'),\n",
       "  (Alaska, 1, 'olivedrab'),\n",
       "  (Greenland, 1, 'firebrick'),\n",
       "  (Iceland, 7, 'darkslateblue'),\n",
       "  (England, 1, 'firebrick'),\n",
       "  (Sweden, 1, 'lightseagreen'),\n",
       "  (Germany, 1, 'lightseagreen'),\n",
       "  (Spain_Portugal_France_Italy, 5, 'olivedrab'),\n",
       "  (Poland_Yugoslavia, 7, 'firebrick'),\n",
       "  (Moscow, 7, 'goldenrod'),\n",
       "  (Algeria_Nigeria, 1, 'darkslateblue'),\n",
       "  (Egypt, 1, 'olivedrab'),\n",
       "  (Congo, 1, 'firebrick'),\n",
       "  (Sudan, 1, 'darkslateblue'),\n",
       "  (Madagascar, 7, 'lightseagreen'),\n",
       "  (South_Africa, 1, 'olivedrab'),\n",
       "  (Middle_East, 1, 'olivedrab'),\n",
       "  (Aral, 7, 'olivedrab'),\n",
       "  (Omsk, 1, 'goldenrod'),\n",
       "  (Dudinka, 1, 'firebrick'),\n",
       "  (Siberia, 1, 'firebrick'),\n",
       "  (Tchita, 1, 'darkslateblue'),\n",
       "  (Mongolia, 1, 'lightseagreen'),\n",
       "  (Vladivostok, 1, 'firebrick'),\n",
       "  (China, 1, 'goldenrod'),\n",
       "  (India, 1, 'lightseagreen'),\n",
       "  (Japan, 7, 'goldenrod'),\n",
       "  (Vietnam, 1, 'lightseagreen'),\n",
       "  (Borneo, 1, 'darkslateblue'),\n",
       "  (Sumatra, 1, 'firebrick'),\n",
       "  (New_Guinea, 4, 'goldenrod'),\n",
       "  (Australia, 1, 'darkslateblue')],\n",
       " array([[ True,  True,  True, ..., False, False, False],\n",
       "        [ True, False,  True, ..., False, False, False],\n",
       "        [ True, False,  True, ..., False, False, False],\n",
       "        ...,\n",
       "        [False, False, False, ..., False, False,  True],\n",
       "        [False, False, False, ...,  True, False,  True],\n",
       "        [False, False, False, ...,  True,  True,  True]]),\n",
       " alocacao)"
      ]
     },
     "execution_count": 13,
     "metadata": {},
     "output_type": "execute_result"
    }
   ],
   "source": [
    "game_data"
   ]
  },
  {
   "cell_type": "code",
   "execution_count": 100,
   "metadata": {},
   "outputs": [
    {
     "name": "stdout",
     "output_type": "stream",
     "text": [
      "(WorldState) updated\n"
     ]
    }
   ],
   "source": [
    "player.update(game_data)"
   ]
  },
  {
   "cell_type": "markdown",
   "metadata": {},
   "source": [
    "    ATAQUE"
   ]
  },
  {
   "cell_type": "code",
   "execution_count": 16,
   "metadata": {},
   "outputs": [
    {
     "data": {
      "text/plain": [
       "{'AFRICA': 0.19999999990812126,\n",
       " 'ASIA': 0.36363636363632285,\n",
       " 'EU': 0.1666666666546254,\n",
       " 'NA': 0.0,\n",
       " 'OCEANIA': 1.3333332538604736,\n",
       " 'SA': 0.3333333134651184}"
      ]
     },
     "execution_count": 16,
     "metadata": {},
     "output_type": "execute_result"
    }
   ],
   "source": [
    "player.worldState.continentConquerPercent"
   ]
  },
  {
   "cell_type": "code",
   "execution_count": 21,
   "metadata": {},
   "outputs": [
    {
     "name": "stdout",
     "output_type": "stream",
     "text": [
      "(WorldState) updated\n",
      "India ataca Aral (fit value =  -3.818181818181712 )\n"
     ]
    }
   ],
   "source": [
    "player.divide_and_conquer(game_data,debug=False)"
   ]
  },
  {
   "cell_type": "markdown",
   "metadata": {},
   "source": [
    "    MOVIMENTAÇÃO"
   ]
  },
  {
   "cell_type": "code",
   "execution_count": 22,
   "metadata": {},
   "outputs": [
    {
     "name": "stdout",
     "output_type": "stream",
     "text": [
      "(WorldState) updated\n",
      "Middle_East  -( 1 )->  India\n",
      "India  -( 2 )->  China\n",
      "Borneo  -( 1 )->  New_Guinea\n",
      "finaliza movimentação\n"
     ]
    }
   ],
   "source": [
    "player.optimized_move(game_data)"
   ]
  },
  {
   "cell_type": "code",
   "execution_count": 15,
   "metadata": {},
   "outputs": [],
   "source": [
    "#player.move(game_data)"
   ]
  }
 ],
 "metadata": {
  "kernelspec": {
   "display_name": ".venv",
   "language": "python",
   "name": "python3"
  },
  "language_info": {
   "codemirror_mode": {
    "name": "ipython",
    "version": 3
   },
   "file_extension": ".py",
   "mimetype": "text/x-python",
   "name": "python",
   "nbconvert_exporter": "python",
   "pygments_lexer": "ipython3",
   "version": "3.11.3"
  },
  "orig_nbformat": 4
 },
 "nbformat": 4,
 "nbformat_minor": 2
}
