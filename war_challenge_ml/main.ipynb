{
 "cells": [
  {
   "cell_type": "code",
   "execution_count": 1,
   "metadata": {},
   "outputs": [
    {
     "name": "stdout",
     "output_type": "stream",
     "text": [
      "env: ENVIRONMENT=prod\n"
     ]
    }
   ],
   "source": [
    "%env ENVIRONMENT prod"
   ]
  },
  {
   "cell_type": "code",
   "execution_count": 2,
   "metadata": {},
   "outputs": [],
   "source": [
    "from war_challenge_computer_vision.main import get_data_from_path\n",
    "import glob\n",
    "from scripts.player import Player\n",
    "from scripts.army import Army\n",
    "from scripts.state import WorldState\n",
    "from scripts.objectives import Objective\n",
    "from pathlib import Path\n",
    "import os"
   ]
  },
  {
   "cell_type": "code",
   "execution_count": 3,
   "metadata": {},
   "outputs": [],
   "source": [
    "%load_ext autoreload\n",
    "%autoreload 2"
   ]
  },
  {
   "cell_type": "code",
   "execution_count": 41,
   "metadata": {},
   "outputs": [],
   "source": [
    "army = Army.BLUE.value\n",
    "objective = Objective.CONQUER_PURPLE.value\n",
    "player = Player(army = army, my_objective = objective)"
   ]
  },
  {
   "cell_type": "code",
   "execution_count": 97,
   "metadata": {},
   "outputs": [
    {
     "name": "stdout",
     "output_type": "stream",
     "text": [
      "/home/udesc/Pictures/Screenshots/Screenshot from 2023-09-14 16-20-56.png\n",
      "Mackenzie darkslateblue 1\n"
     ]
    }
   ],
   "source": [
    "pattern = str(Path(f\"{os.path.expanduser('~')}/Pictures/Screenshots/\").resolve()) + '/*'\n",
    "list_of_files = glob.glob(pattern)\n",
    "latest_file = max(list_of_files, key=os.path.getctime)\n",
    "print(latest_file)\n",
    "game_data = get_data_from_path(Path(latest_file))"
   ]
  },
  {
   "cell_type": "code",
   "execution_count": 26,
   "metadata": {},
   "outputs": [
    {
     "data": {
      "text/plain": [
       "([(Brazil, 1, 'firebrick'),\n",
       "  (Argentina_Uruguay, 1, 'firebrick'),\n",
       "  (Colombia_Venezuela, 30, 'firebrick'),\n",
       "  (Peru_Bolivia_Chile, 30, 'firebrick'),\n",
       "  (Mexico, 1, 'firebrick'),\n",
       "  (California, 1, 'olivedrab'),\n",
       "  (New_York, 5, 'goldenrod'),\n",
       "  (Labrador, 30, 'darkslateblue'),\n",
       "  (Ottawa, 1, 'darkslateblue'),\n",
       "  (Vancouver, 1, 'olivedrab'),\n",
       "  (Mackenzie, 3, 'darkslateblue'),\n",
       "  (Alaska, 1, 'lightseagreen'),\n",
       "  (Greenland, 1, 'darkslateblue'),\n",
       "  (Iceland, 1, 'darkslateblue'),\n",
       "  (England, 1, 'darkslateblue'),\n",
       "  (Sweden, 1, 'darkslateblue'),\n",
       "  (Germany, 1, 'darkslateblue'),\n",
       "  (Spain_Portugal_France_Italy, 1, 'goldenrod'),\n",
       "  (Poland_Yugoslavia, 1, 'goldenrod'),\n",
       "  (Moscow, 1, 'goldenrod'),\n",
       "  (Algeria_Nigeria, 1, 'firebrick'),\n",
       "  (Egypt, 1, 'lightseagreen'),\n",
       "  (Congo, 20, 'lightseagreen'),\n",
       "  (Sudan, 3, 'firebrick'),\n",
       "  (Madagascar, 1, 'firebrick'),\n",
       "  (South_Africa, 1, 'goldenrod'),\n",
       "  (Middle_East, 1, 'olivedrab'),\n",
       "  (Aral, 1, 'lightseagreen'),\n",
       "  (Omsk, 1, 'firebrick'),\n",
       "  (Dudinka, 1, 'lightseagreen'),\n",
       "  (Siberia, 1, 'olivedrab'),\n",
       "  (Tchita, 1, 'darkslateblue'),\n",
       "  (Mongolia, 1, 'goldenrod'),\n",
       "  (Vladivostok, 40, 'lightseagreen'),\n",
       "  (China, 1, 'goldenrod'),\n",
       "  (India, 1, 'firebrick'),\n",
       "  (Japan, 4, 'lightseagreen'),\n",
       "  (Vietnam, 1, 'firebrick'),\n",
       "  (Borneo, 3, 'olivedrab'),\n",
       "  (Sumatra, 5, 'olivedrab'),\n",
       "  (New_Guinea, 1, 'olivedrab'),\n",
       "  (Australia, 1, 'olivedrab')],\n",
       " array([[ True,  True,  True, ..., False, False, False],\n",
       "        [ True, False,  True, ..., False, False, False],\n",
       "        [ True, False,  True, ..., False, False, False],\n",
       "        ...,\n",
       "        [False, False, False, ..., False, False,  True],\n",
       "        [False, False, False, ...,  True, False,  True],\n",
       "        [False, False, False, ...,  True,  True,  True]]),\n",
       " ataque)"
      ]
     },
     "execution_count": 26,
     "metadata": {},
     "output_type": "execute_result"
    }
   ],
   "source": [
    "game_data"
   ]
  },
  {
   "cell_type": "code",
   "execution_count": 59,
   "metadata": {},
   "outputs": [
    {
     "name": "stdout",
     "output_type": "stream",
     "text": [
      "(WorldState) updated\n"
     ]
    }
   ],
   "source": [
    "player.update(game_data)"
   ]
  },
  {
   "cell_type": "code",
   "execution_count": 94,
   "metadata": {},
   "outputs": [
    {
     "name": "stdout",
     "output_type": "stream",
     "text": [
      "(WorldState) updated\n",
      "[('Dudinka', 'Omsk', -3.5), ('Dudinka', 'Mongolia', 0.6428571428571428), ('Japan', 'China', -9.0)]\n",
      "Dudinka ataca Mongolia (fit value =  0.6428571428571428 )\n"
     ]
    }
   ],
   "source": [
    "player.divide_and_conquer(game_data,debug=True)"
   ]
  },
  {
   "cell_type": "code",
   "execution_count": 95,
   "metadata": {},
   "outputs": [
    {
     "name": "stdout",
     "output_type": "stream",
     "text": [
      "finaliza movimentação\n"
     ]
    }
   ],
   "source": [
    "player.move()"
   ]
  }
 ],
 "metadata": {
  "kernelspec": {
   "display_name": ".venv",
   "language": "python",
   "name": "python3"
  },
  "language_info": {
   "codemirror_mode": {
    "name": "ipython",
    "version": 3
   },
   "file_extension": ".py",
   "mimetype": "text/x-python",
   "name": "python",
   "nbconvert_exporter": "python",
   "pygments_lexer": "ipython3",
   "version": "3.11.3"
  },
  "orig_nbformat": 4
 },
 "nbformat": 4,
 "nbformat_minor": 2
}
