{
 "cells": [
  {
   "cell_type": "code",
   "execution_count": 1,
   "metadata": {},
   "outputs": [
    {
     "name": "stdout",
     "output_type": "stream",
     "text": [
      "env: ENVIRONMENT=prod\n"
     ]
    }
   ],
   "source": [
    "%env ENVIRONMENT prod"
   ]
  },
  {
   "cell_type": "code",
   "execution_count": 2,
   "metadata": {},
   "outputs": [],
   "source": [
    "from war_challenge_computer_vision.main import get_data_from_path\n",
    "import glob\n",
    "from scripts.player import Player\n",
    "from scripts.army import Army\n",
    "from scripts.state import WorldState\n",
    "from scripts.objectives import Objective\n",
    "from pathlib import Path\n",
    "import os"
   ]
  },
  {
   "cell_type": "code",
   "execution_count": 3,
   "metadata": {},
   "outputs": [],
   "source": [
    "%load_ext autoreload\n",
    "%autoreload 2"
   ]
  },
  {
   "cell_type": "code",
   "execution_count": 41,
   "metadata": {},
   "outputs": [],
   "source": [
    "army = Army.BLUE.value\n",
    "objective = Objective.CONQUER_PURPLE.value\n",
    "player = Player(army = army, my_objective = objective)"
   ]
  },
  {
   "cell_type": "code",
   "execution_count": 111,
   "metadata": {},
   "outputs": [
    {
     "name": "stdout",
     "output_type": "stream",
     "text": [
      "/home/udesc/Pictures/Screenshots/Screenshot from 2023-09-14 17-01-59.png\n",
      "Vancouver firebrick 1\n",
      "Middle_East olivedrab 1\n",
      "Egypt olivedrab 1\n",
      "Australia olivedrab 1\n"
     ]
    }
   ],
   "source": [
    "pattern = str(Path(f\"{os.path.expanduser('~')}/Pictures/Screenshots/\").resolve()) + '/*'\n",
    "list_of_files = glob.glob(pattern)\n",
    "latest_file = max(list_of_files, key=os.path.getctime)\n",
    "print(latest_file)\n",
    "game_data = get_data_from_path(Path(latest_file))"
   ]
  },
  {
   "cell_type": "code",
   "execution_count": 113,
   "metadata": {},
   "outputs": [
    {
     "data": {
      "text/plain": [
       "([(Brazil, 1, 'firebrick'),\n",
       "  (Argentina_Uruguay, 1, 'firebrick'),\n",
       "  (Colombia_Venezuela, 1, 'firebrick'),\n",
       "  (Peru_Bolivia_Chile, 1, 'firebrick'),\n",
       "  (Mexico, 30, 'firebrick'),\n",
       "  (California, 30, 'firebrick'),\n",
       "  (New_York, 3, 'firebrick'),\n",
       "  (Labrador, 30, 'darkslateblue'),\n",
       "  (Ottawa, 30, 'firebrick'),\n",
       "  (Vancouver, 1, 'firebrick'),\n",
       "  (Mackenzie, 5, 'darkslateblue'),\n",
       "  (Alaska, 20, 'darkslateblue'),\n",
       "  (Greenland, 1, 'darkslateblue'),\n",
       "  (Iceland, 1, 'darkslateblue'),\n",
       "  (England, 1, 'olivedrab'),\n",
       "  (Sweden, 2, 'darkslateblue'),\n",
       "  (Germany, 20, 'darkslateblue'),\n",
       "  (Spain_Portugal_France_Italy, 1, 'olivedrab'),\n",
       "  (Poland_Yugoslavia, 3, 'olivedrab'),\n",
       "  (Moscow, 30, 'goldenrod'),\n",
       "  (Algeria_Nigeria, 1, 'firebrick'),\n",
       "  (Egypt, 1, 'olivedrab'),\n",
       "  (Congo, 7, 'olivedrab'),\n",
       "  (Sudan, 1, 'olivedrab'),\n",
       "  (Madagascar, 7, 'firebrick'),\n",
       "  (South_Africa, 1, 'goldenrod'),\n",
       "  (Middle_East, 1, 'olivedrab'),\n",
       "  (Aral, 30, 'olivedrab'),\n",
       "  (Omsk, 2, 'goldenrod'),\n",
       "  (Dudinka, 2, 'goldenrod'),\n",
       "  (Siberia, 3, 'lightseagreen'),\n",
       "  (Tchita, 3, 'lightseagreen'),\n",
       "  (Mongolia, 2, 'goldenrod'),\n",
       "  (Vladivostok, 30, 'lightseagreen'),\n",
       "  (China, 3, 'lightseagreen'),\n",
       "  (India, 3, 'olivedrab'),\n",
       "  (Japan, 3, 'lightseagreen'),\n",
       "  (Vietnam, 7, 'olivedrab'),\n",
       "  (Borneo, 1, 'olivedrab'),\n",
       "  (Sumatra, 7, 'olivedrab'),\n",
       "  (New_Guinea, 1, 'olivedrab'),\n",
       "  (Australia, 1, 'olivedrab')],\n",
       " array([[ True,  True,  True, ..., False, False, False],\n",
       "        [ True, False,  True, ..., False, False, False],\n",
       "        [ True, False,  True, ..., False, False, False],\n",
       "        ...,\n",
       "        [False, False, False, ..., False, False,  True],\n",
       "        [False, False, False, ...,  True, False,  True],\n",
       "        [False, False, False, ...,  True,  True,  True]]),\n",
       " ataque)"
      ]
     },
     "execution_count": 113,
     "metadata": {},
     "output_type": "execute_result"
    }
   ],
   "source": [
    "game_data"
   ]
  },
  {
   "cell_type": "code",
   "execution_count": 59,
   "metadata": {},
   "outputs": [
    {
     "name": "stdout",
     "output_type": "stream",
     "text": [
      "(WorldState) updated\n"
     ]
    }
   ],
   "source": [
    "player.update(game_data)"
   ]
  },
  {
   "cell_type": "code",
   "execution_count": 112,
   "metadata": {},
   "outputs": [
    {
     "name": "stdout",
     "output_type": "stream",
     "text": [
      "(WorldState) updated\n",
      "[('Vladivostok', 'Alaska', -16.5)]\n",
      "Vladivostok ataca Alaska (fit value =  -16.5 )\n"
     ]
    }
   ],
   "source": [
    "player.divide_and_conquer(game_data,debug=True)"
   ]
  },
  {
   "cell_type": "code",
   "execution_count": 108,
   "metadata": {},
   "outputs": [
    {
     "name": "stdout",
     "output_type": "stream",
     "text": [
      "finaliza movimentação\n"
     ]
    }
   ],
   "source": [
    "player.move()"
   ]
  }
 ],
 "metadata": {
  "kernelspec": {
   "display_name": ".venv",
   "language": "python",
   "name": "python3"
  },
  "language_info": {
   "codemirror_mode": {
    "name": "ipython",
    "version": 3
   },
   "file_extension": ".py",
   "mimetype": "text/x-python",
   "name": "python",
   "nbconvert_exporter": "python",
   "pygments_lexer": "ipython3",
   "version": "3.11.3"
  },
  "orig_nbformat": 4
 },
 "nbformat": 4,
 "nbformat_minor": 2
}
