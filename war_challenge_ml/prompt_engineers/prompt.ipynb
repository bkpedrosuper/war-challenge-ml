{
 "cells": [
  {
   "cell_type": "code",
   "execution_count": 1,
   "metadata": {},
   "outputs": [
    {
     "name": "stdout",
     "output_type": "stream",
     "text": [
      "env: ENVIRONMENT=prod\n"
     ]
    }
   ],
   "source": [
    "%env ENVIRONMENT prod"
   ]
  },
  {
   "cell_type": "code",
   "execution_count": 2,
   "metadata": {},
   "outputs": [],
   "source": [
    "from war_challenge_computer_vision.main import get_data \n",
    "from war_challenge_computer_vision.read_map import GameStep"
   ]
  },
  {
   "cell_type": "code",
   "execution_count": 3,
   "metadata": {},
   "outputs": [],
   "source": [
    "game_state, borders, game_step, team_color = get_data()"
   ]
  },
  {
   "cell_type": "code",
   "execution_count": 4,
   "metadata": {},
   "outputs": [
    {
     "data": {
      "text/plain": [
       "array([[False,  True,  True, ..., False, False, False],\n",
       "       [ True, False,  True, ..., False, False, False],\n",
       "       [ True, False, False, ..., False, False, False],\n",
       "       ...,\n",
       "       [False, False, False, ..., False, False,  True],\n",
       "       [False, False, False, ...,  True, False,  True],\n",
       "       [False, False, False, ...,  True,  True,  True]])"
      ]
     },
     "execution_count": 4,
     "metadata": {},
     "output_type": "execute_result"
    }
   ],
   "source": [
    "borders"
   ]
  },
  {
   "cell_type": "code",
   "execution_count": 5,
   "metadata": {},
   "outputs": [
    {
     "data": {
      "text/plain": [
       "[(Brazil, 1, 'brown'),\n",
       " (Argentina_Uruguay, 1, 'firebrick'),\n",
       " (Colombia_Venezuela, 1, 'firebrick'),\n",
       " (Peru_Bolivia_Chile, 1, 'lightseagreen'),\n",
       " (Mexico, 1, 'olivedrab'),\n",
       " (California, 1, 'olivedrab'),\n",
       " (New_York, 1, 'firebrick'),\n",
       " (Labrador, 1, 'lightseagreen'),\n",
       " (Ottawa, 1, 'olivedrab'),\n",
       " (Vancouver, 1, 'firebrick'),\n",
       " (Mackenzie, 8, 'firebrick'),\n",
       " (Alaska, 1, 'lightseagreen'),\n",
       " (Greenland, 1, 'olivedrab'),\n",
       " (Iceland, 1, 'brown'),\n",
       " (England, 1, 'lightseagreen'),\n",
       " (Sweden, 1, 'black'),\n",
       " (Germany, 1, 'darkolivegreen'),\n",
       " (Spain_Portugal_France_Italy, 1, 'darkslategray'),\n",
       " (Poland_Yugoslavia, 1, 'lightseagreen'),\n",
       " (Moscow, 1, 'olivedrab'),\n",
       " (Algeria_Nigeria, 1, 'olivedrab'),\n",
       " (Egypt, 1, 'olivedrab'),\n",
       " (Congo, 1, 'lightseagreen'),\n",
       " (Sudan, 1, 'lightseagreen'),\n",
       " (Madagascar, 1, 'black'),\n",
       " (South_Africa, 1, 'brown'),\n",
       " (Middle_East, 1, 'firebrick'),\n",
       " (Aral, 1, 'firebrick'),\n",
       " (Omsk, 1, 'olivedrab'),\n",
       " (Dudinka, 1, 'darkslategray'),\n",
       " (Siberia, 1, 'firebrick'),\n",
       " (Tchita, 1, 'lightseagreen'),\n",
       " (Mongolia, 1, 'darkslategray'),\n",
       " (Vladivostok, 1, 'firebrick'),\n",
       " (China, 1, 'olivedrab'),\n",
       " (India, 1, 'olivedrab'),\n",
       " (Japan, 1, 'olivedrab'),\n",
       " (Vietnam, 1, 'lightseagreen'),\n",
       " (Borneo, 1, 'firebrick'),\n",
       " (Sumatra, 1, 'olivedrab'),\n",
       " (New_Guinea, 1, 'darkslategray'),\n",
       " (Australia, 1, 'lightseagreen')]"
      ]
     },
     "execution_count": 5,
     "metadata": {},
     "output_type": "execute_result"
    }
   ],
   "source": [
    "game_state"
   ]
  },
  {
   "cell_type": "code",
   "execution_count": 6,
   "metadata": {},
   "outputs": [
    {
     "data": {
      "text/plain": [
       "'O estado do jogo está descrito a seguir: o território do Brazil tem 1 tropas e pertence ao jogador de cor brown, o território do Argentina_Uruguay tem 1 tropas e pertence ao jogador de cor firebrick, o território do Colombia_Venezuela tem 1 tropas e pertence ao jogador de cor firebrick, o território do Peru_Bolivia_Chile tem 1 tropas e pertence ao jogador de cor lightseagreen, o território do Mexico tem 1 tropas e pertence ao jogador de cor olivedrab, o território do California tem 1 tropas e pertence ao jogador de cor olivedrab, o território do New_York tem 1 tropas e pertence ao jogador de cor firebrick, o território do Labrador tem 1 tropas e pertence ao jogador de cor lightseagreen, o território do Ottawa tem 1 tropas e pertence ao jogador de cor olivedrab, o território do Vancouver tem 1 tropas e pertence ao jogador de cor firebrick, o território do Mackenzie tem 8 tropas e pertence ao jogador de cor firebrick, o território do Alaska tem 1 tropas e pertence ao jogador de cor lightseagreen, o território do Greenland tem 1 tropas e pertence ao jogador de cor olivedrab, o território do Iceland tem 1 tropas e pertence ao jogador de cor brown, o território do England tem 1 tropas e pertence ao jogador de cor lightseagreen, o território do Sweden tem 1 tropas e pertence ao jogador de cor black, o território do Germany tem 1 tropas e pertence ao jogador de cor darkolivegreen, o território do Spain_Portugal_France_Italy tem 1 tropas e pertence ao jogador de cor darkslategray, o território do Poland_Yugoslavia tem 1 tropas e pertence ao jogador de cor lightseagreen, o território do Moscow tem 1 tropas e pertence ao jogador de cor olivedrab, o território do Algeria_Nigeria tem 1 tropas e pertence ao jogador de cor olivedrab, o território do Egypt tem 1 tropas e pertence ao jogador de cor olivedrab, o território do Congo tem 1 tropas e pertence ao jogador de cor lightseagreen, o território do Sudan tem 1 tropas e pertence ao jogador de cor lightseagreen, o território do Madagascar tem 1 tropas e pertence ao jogador de cor black, o território do South_Africa tem 1 tropas e pertence ao jogador de cor brown, o território do Middle_East tem 1 tropas e pertence ao jogador de cor firebrick, o território do Aral tem 1 tropas e pertence ao jogador de cor firebrick, o território do Omsk tem 1 tropas e pertence ao jogador de cor olivedrab, o território do Dudinka tem 1 tropas e pertence ao jogador de cor darkslategray, o território do Siberia tem 1 tropas e pertence ao jogador de cor firebrick, o território do Tchita tem 1 tropas e pertence ao jogador de cor lightseagreen, o território do Mongolia tem 1 tropas e pertence ao jogador de cor darkslategray, o território do Vladivostok tem 1 tropas e pertence ao jogador de cor firebrick, o território do China tem 1 tropas e pertence ao jogador de cor olivedrab, o território do India tem 1 tropas e pertence ao jogador de cor olivedrab, o território do Japan tem 1 tropas e pertence ao jogador de cor olivedrab, o território do Vietnam tem 1 tropas e pertence ao jogador de cor lightseagreen, o território do Borneo tem 1 tropas e pertence ao jogador de cor firebrick, o território do Sumatra tem 1 tropas e pertence ao jogador de cor olivedrab, o território do New_Guinea tem 1 tropas e pertence ao jogador de cor darkslategray, o território do Australia tem 1 tropas e pertence ao jogador de cor lightseagreen'"
      ]
     },
     "execution_count": 6,
     "metadata": {},
     "output_type": "execute_result"
    }
   ],
   "source": [
    "prompt_game_state_list = list()\n",
    "for region, region_troops, region_color in game_state:\n",
    "    prompt_game_state_list.append(\n",
    "        f\"o território do {region.name} tem {region_troops} tropas e pertence ao jogador de cor {region_color}\"\n",
    "    )\n",
    "prompt_game_state = \"O estado do jogo está descrito a seguir: \" + \", \".join(prompt_game_state_list)\n",
    "prompt_game_state"
   ]
  },
  {
   "cell_type": "code",
   "execution_count": 7,
   "metadata": {},
   "outputs": [],
   "source": [
    "prompt_game_step = f\"O lance deve ser de {game_step}{'' if game_step != GameStep.ALOCACAO else f' e deve ser alocado {game_step.troops_to_alloc} tropas'}\""
   ]
  },
  {
   "cell_type": "code",
   "execution_count": 8,
   "metadata": {},
   "outputs": [],
   "source": [
    "prompt_color = f\"Estou jogando o jogo WAR, e preciso fazer um lance, sou o jogador de cor {team_color}\""
   ]
  },
  {
   "cell_type": "code",
   "execution_count": 9,
   "metadata": {},
   "outputs": [],
   "source": [
    "promt_desc = \"Lembre-se de que só é possível alocar tropas nos territórios da minha cor, e esta informação vem na forma \\\"o território NOME_DO_TERRITÓRIO tem QTD_TROPAS tropas e pertence ao jogador COR_DO_JOGADOR\\\", onde NOME_DO_TERRITÓRIO é o nome do território, QTD_TROPAS é a quantidade de tropas no território e COR_DO_JOGADOR é a cor do jogador que possui esse terrirório.\""
   ]
  },
  {
   "cell_type": "code",
   "execution_count": 10,
   "metadata": {},
   "outputs": [
    {
     "name": "stdout",
     "output_type": "stream",
     "text": [
      "Estou jogando o jogo WAR, e preciso fazer um lance, sou o jogador de cor brown.\n",
      "Lembre-se de que só é possível alocar tropas nos territórios da minha cor, e esta informação vem na forma \"o território NOME_DO_TERRITÓRIO tem QTD_TROPAS tropas e pertence ao jogador COR_DO_JOGADOR\", onde NOME_DO_TERRITÓRIO é o nome do território, QTD_TROPAS é a quantidade de tropas no território e COR_DO_JOGADOR é a cor do jogador que possui esse terrirório..\n",
      "O lance deve ser de alocacao e deve ser alocado 7 tropas.\n",
      "O estado do jogo está descrito a seguir: o território do Brazil tem 1 tropas e pertence ao jogador de cor brown, o território do Argentina_Uruguay tem 1 tropas e pertence ao jogador de cor firebrick, o território do Colombia_Venezuela tem 1 tropas e pertence ao jogador de cor firebrick, o território do Peru_Bolivia_Chile tem 1 tropas e pertence ao jogador de cor lightseagreen, o território do Mexico tem 1 tropas e pertence ao jogador de cor olivedrab, o território do California tem 1 tropas e pertence ao jogador de cor olivedrab, o território do New_York tem 1 tropas e pertence ao jogador de cor firebrick, o território do Labrador tem 1 tropas e pertence ao jogador de cor lightseagreen, o território do Ottawa tem 1 tropas e pertence ao jogador de cor olivedrab, o território do Vancouver tem 1 tropas e pertence ao jogador de cor firebrick, o território do Mackenzie tem 8 tropas e pertence ao jogador de cor firebrick, o território do Alaska tem 1 tropas e pertence ao jogador de cor lightseagreen, o território do Greenland tem 1 tropas e pertence ao jogador de cor olivedrab, o território do Iceland tem 1 tropas e pertence ao jogador de cor brown, o território do England tem 1 tropas e pertence ao jogador de cor lightseagreen, o território do Sweden tem 1 tropas e pertence ao jogador de cor black, o território do Germany tem 1 tropas e pertence ao jogador de cor darkolivegreen, o território do Spain_Portugal_France_Italy tem 1 tropas e pertence ao jogador de cor darkslategray, o território do Poland_Yugoslavia tem 1 tropas e pertence ao jogador de cor lightseagreen, o território do Moscow tem 1 tropas e pertence ao jogador de cor olivedrab, o território do Algeria_Nigeria tem 1 tropas e pertence ao jogador de cor olivedrab, o território do Egypt tem 1 tropas e pertence ao jogador de cor olivedrab, o território do Congo tem 1 tropas e pertence ao jogador de cor lightseagreen, o território do Sudan tem 1 tropas e pertence ao jogador de cor lightseagreen, o território do Madagascar tem 1 tropas e pertence ao jogador de cor black, o território do South_Africa tem 1 tropas e pertence ao jogador de cor brown, o território do Middle_East tem 1 tropas e pertence ao jogador de cor firebrick, o território do Aral tem 1 tropas e pertence ao jogador de cor firebrick, o território do Omsk tem 1 tropas e pertence ao jogador de cor olivedrab, o território do Dudinka tem 1 tropas e pertence ao jogador de cor darkslategray, o território do Siberia tem 1 tropas e pertence ao jogador de cor firebrick, o território do Tchita tem 1 tropas e pertence ao jogador de cor lightseagreen, o território do Mongolia tem 1 tropas e pertence ao jogador de cor darkslategray, o território do Vladivostok tem 1 tropas e pertence ao jogador de cor firebrick, o território do China tem 1 tropas e pertence ao jogador de cor olivedrab, o território do India tem 1 tropas e pertence ao jogador de cor olivedrab, o território do Japan tem 1 tropas e pertence ao jogador de cor olivedrab, o território do Vietnam tem 1 tropas e pertence ao jogador de cor lightseagreen, o território do Borneo tem 1 tropas e pertence ao jogador de cor firebrick, o território do Sumatra tem 1 tropas e pertence ao jogador de cor olivedrab, o território do New_Guinea tem 1 tropas e pertence ao jogador de cor darkslategray, o território do Australia tem 1 tropas e pertence ao jogador de cor lightseagreen.\n"
     ]
    }
   ],
   "source": [
    "prompt = (\n",
    "    f\"{prompt_color}\",\n",
    "    f\"{promt_desc}\",\n",
    "    f\"{prompt_game_step}\",\n",
    "    f\"{prompt_game_state}.\",\n",
    ")\n",
    "print(\".\\n\".join(prompt))"
   ]
  }
 ],
 "metadata": {
  "kernelspec": {
   "display_name": ".venv",
   "language": "python",
   "name": "python3"
  },
  "language_info": {
   "codemirror_mode": {
    "name": "ipython",
    "version": 3
   },
   "file_extension": ".py",
   "mimetype": "text/x-python",
   "name": "python",
   "nbconvert_exporter": "python",
   "pygments_lexer": "ipython3",
   "version": "3.11.2"
  },
  "orig_nbformat": 4
 },
 "nbformat": 4,
 "nbformat_minor": 2
}
