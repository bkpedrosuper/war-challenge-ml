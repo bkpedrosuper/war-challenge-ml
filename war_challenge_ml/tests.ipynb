{
 "cells": [
  {
   "cell_type": "code",
   "execution_count": 2,
   "metadata": {},
   "outputs": [],
   "source": [
    "from war_challenge_computer_vision.main import get_data\n",
    "from war_challenge_computer_vision.regions.regions import Region,Continent\n",
    "import pandas as pd"
   ]
  },
  {
   "cell_type": "code",
   "execution_count": 44,
   "metadata": {},
   "outputs": [],
   "source": [
    "%load_ext autoreload\n",
    "%autoreload 2"
   ]
  },
  {
   "cell_type": "code",
   "execution_count": 2,
   "metadata": {},
   "outputs": [
    {
     "name": "stdout",
     "output_type": "stream",
     "text": [
      "process_territory took 0.6708757877349854 seconds to complete its execution.\n",
      "process_territory took 0.8408358097076416 seconds to complete its execution.\n",
      "process_territory took 0.846677303314209 seconds to complete its execution.process_territory took 0.8493869304656982 seconds to complete its execution.\n",
      "\n",
      "process_territory took 0.26462602615356445 seconds to complete its execution.\n",
      "process_territory took 1.3605613708496094 seconds to complete its execution.\n",
      "process_territory took 1.5031743049621582 seconds to complete its execution.process_territory took 1.51112699508667 seconds to complete its execution.\n",
      "\n",
      "process_territory took 1.4157497882843018 seconds to complete its execution.\n",
      "process_territory took 0.6067571640014648 seconds to complete its execution.\n",
      "process_territory took 0.566431999206543 seconds to complete its execution.process_territory took 0.5739498138427734 seconds to complete its execution.\n",
      "\n",
      "process_territory took 0.5636332035064697 seconds to complete its execution.\n",
      "process_territory took 0.35242271423339844 seconds to complete its execution.\n",
      "process_territory took 0.2947096824645996 seconds to complete its execution.\n",
      "process_territory took 0.9976112842559814 seconds to complete its execution.\n",
      "process_territory took 2.1227526664733887 seconds to complete its execution.process_territory took 0.31763172149658203 seconds to complete its execution.\n",
      "\n",
      "process_territory took 2.615959405899048 seconds to complete its execution.\n",
      "process_territory took 2.15820050239563 seconds to complete its execution.\n",
      "process_territory took 2.4469170570373535 seconds to complete its execution.\n",
      "process_territory took 5.556135416030884 seconds to complete its execution.\n",
      "process_territory took 1.3614628314971924 seconds to complete its execution.\n",
      "process_territory took 1.0185861587524414 seconds to complete its execution.\n",
      "process_territory took 0.5878539085388184 seconds to complete its execution.\n",
      "process_territory took 1.6990513801574707 seconds to complete its execution.process_territory took 5.235364675521851 seconds to complete its execution.\n",
      "\n",
      "process_territory took 2.2192633152008057 seconds to complete its execution.\n",
      "process_territory took 0.671968936920166 seconds to complete its execution.process_territory took 0.6099839210510254 seconds to complete its execution.\n",
      "\n",
      "process_territory took 0.6094396114349365 seconds to complete its execution.\n",
      "process_territory took 0.6090183258056641 seconds to complete its execution.\n",
      "process_territory took 0.19176912307739258 seconds to complete its execution.\n",
      "process_territory took 0.21761560440063477 seconds to complete its execution.\n",
      "process_territory took 0.23743295669555664 seconds to complete its execution.\n",
      "process_territory took 0.2337357997894287 seconds to complete its execution.\n",
      "process_territory took 0.16572880744934082 seconds to complete its execution.\n",
      "process_territory took 0.15427422523498535 seconds to complete its execution.\n",
      "process_territory took 0.15869903564453125 seconds to complete its execution.\n",
      "process_territory took 0.14268183708190918 seconds to complete its execution.\n",
      "process_territory took 0.13898658752441406 seconds to complete its execution.\n",
      "process_territory took 0.13653111457824707 seconds to complete its execution.\n"
     ]
    }
   ],
   "source": [
    "data = get_data()"
   ]
  },
  {
   "cell_type": "code",
   "execution_count": 3,
   "metadata": {},
   "outputs": [
    {
     "data": {
      "text/plain": [
       "([(Brazil, 1, 'lightseagreen'),\n",
       "  (Argentina_Uruguay, 1, 'olivedrab'),\n",
       "  (Colombia_Venezuela, 1, 'lightseagreen'),\n",
       "  (Peru_Bolivia_Chile, 8, 'olivedrab'),\n",
       "  (Mexico, 1, 'olivedrab'),\n",
       "  (California, 1, 'lightseagreen'),\n",
       "  (New_York, 1, 'lightseagreen'),\n",
       "  (Labrador, 1, 'firebrick'),\n",
       "  (Ottawa, 1, 'firebrick'),\n",
       "  (Vancouver, 1, 'olivedrab'),\n",
       "  (Mackenzie, 1, 'olivedrab'),\n",
       "  (Alaska, 1, 'olivedrab'),\n",
       "  (Greenland, 1, 'olivedrab'),\n",
       "  (Iceland, 1, 'firebrick'),\n",
       "  (England, 1, 'olivedrab'),\n",
       "  (Sweden, 1, 'firebrick'),\n",
       "  (Germany, 1, 'lightseagreen'),\n",
       "  (Spain_Portugal_France_Italy, 1, 'lightseagreen'),\n",
       "  (Poland_Yugoslavia, 1, 'firebrick'),\n",
       "  (Moscow, 1, 'firebrick'),\n",
       "  (Algeria_Nigeria, 1, 'lightseagreen'),\n",
       "  (Egypt, 1, 'olivedrab'),\n",
       "  (Congo, 1, 'lightseagreen'),\n",
       "  (Sudan, 1, 'lightseagreen'),\n",
       "  (Madagascar, 1, 'lightseagreen'),\n",
       "  (South_Africa, 1, 'olivedrab'),\n",
       "  (Middle_East, 1, 'firebrick'),\n",
       "  (Aral, 1, 'firebrick'),\n",
       "  (Omsk, 8, 'firebrick'),\n",
       "  (Dudinka, 1, 'firebrick'),\n",
       "  (Siberia, 1, 'olivedrab'),\n",
       "  (Tchita, 1, 'olivedrab'),\n",
       "  (Mongolia, 1, 'firebrick'),\n",
       "  (Vladivostok, 1, 'firebrick'),\n",
       "  (China, 1, 'lightseagreen'),\n",
       "  (India, 1, 'olivedrab'),\n",
       "  (Japan, 1, 'firebrick'),\n",
       "  (Vietnam, 1, 'lightseagreen'),\n",
       "  (Borneo, 1, 'lightseagreen'),\n",
       "  (Sumatra, 1, 'lightseagreen'),\n",
       "  (New_Guinea, 1, 'firebrick'),\n",
       "  (Australia, 1, 'olivedrab')],\n",
       " array([[False,  True,  True, ..., False, False, False],\n",
       "        [ True, False,  True, ..., False, False, False],\n",
       "        [ True, False, False, ..., False, False, False],\n",
       "        ...,\n",
       "        [False, False, False, ..., False, False,  True],\n",
       "        [False, False, False, ...,  True, False,  True],\n",
       "        [False, False, False, ...,  True,  True,  True]]))"
      ]
     },
     "execution_count": 3,
     "metadata": {},
     "output_type": "execute_result"
    }
   ],
   "source": [
    "data"
   ]
  },
  {
   "cell_type": "code",
   "execution_count": 3,
   "metadata": {},
   "outputs": [
    {
     "name": "stdout",
     "output_type": "stream",
     "text": [
      "1   Brazil   SA   [Argentina_Uruguay, Peru_Bolivia_Chile, Colombia_Venezuela, Algeria_Nigeria]\n",
      "2   Argentina_Uruguay   SA   [Argentina_Uruguay, Peru_Bolivia_Chile]\n",
      "3   Colombia_Venezuela   SA   [Mexico, Brazil, Peru_Bolivia_Chile]\n",
      "4   Peru_Bolivia_Chile   SA   [Brazil, Peru_Bolivia_Chile, Argentina_Uruguay]\n",
      "5   Mexico   NA   [California, New_York, Colombia_Venezuela]\n",
      "6   California   NA   [New_York, Mexico, Vancouver, Ottawa]\n",
      "7   New_York   NA   [California, Mexico, Ottawa, Labrador]\n",
      "8   Labrador   NA   [Ottawa, New_York, Greenland]\n",
      "9   Ottawa   NA   [New_York, California, Labrador, Vancouver, Mackenzie]\n",
      "10   Vancouver   NA   [California, Ottawa, Mackenzie, Alaska]\n",
      "11   Mackenzie   NA   [Vancouver, Alaska, Greenland, Ottawa]\n",
      "12   Alaska   NA   [Vladivostok, Mackenzie, Vancouver]\n",
      "13   Greenland   NA   [Mackenzie, Labrador]\n",
      "14   Iceland   EU   [Greenland, England]\n",
      "15   England   EU   [Spain_Portugal_France_Italy, Germany, Sweden]\n",
      "16   Sweden   EU   [Germany, Moscow]\n",
      "17   Germany   EU   [England, Spain_Portugal_France_Italy, Poland_Yugoslavia, Sweden]\n",
      "18   Spain_Portugal_France_Italy   EU   [England, Germany, Algeria_Nigeria, Egypt]\n",
      "19   Poland_Yugoslavia   EU   [Middle_East, Germany, Moscow, Egypt]\n",
      "20   Moscow   EU   [Sweden, Poland_Yugoslavia, Aral, Omsk]\n",
      "21   Algeria_Nigeria   AFRICA   [Brazil, Egypt, Spain_Portugal_France_Italy, Congo, Sudan]\n",
      "22   Egypt   AFRICA   [Sudan, Algeria_Nigeria, Spain_Portugal_France_Italy, Poland_Yugoslavia, Middle_East]\n",
      "23   Congo   AFRICA   [Madagascar, Congo, Algeria_Nigeria, Egypt]\n",
      "24   Sudan   AFRICA   [Egypt, Algeria_Nigeria, Congo, South_Africa, Madagascar]\n",
      "25   Madagascar   AFRICA   [Sudan, South_Africa]\n",
      "26   South_Africa   AFRICA   [Madagascar, Congo, Sudan]\n",
      "27   Middle_East   ASIA   [Egypt, India, Aral]\n",
      "28   Aral   ASIA   [Omsk, Middle_East, India, China, Moscow]\n",
      "29   Omsk   ASIA   [Aral, Dudinka, Mongolia, Moscow, China]\n",
      "30   Dudinka   ASIA   [Omsk, Siberia, Tchita, Mongolia]\n",
      "31   Siberia   ASIA   [Dudinka, Vladivostok, Tchita]\n",
      "32   Tchita   ASIA   [Siberia, Dudinka, Mongolia, China, Vladivostok]\n",
      "33   Mongolia   ASIA   [Dudinka, Omsk, China, Tchita]\n",
      "34   Vladivostok   ASIA   [Siberia, Tchita, Alaska, China]\n",
      "35   China   ASIA   [Mongolia, Tchita, Vladivostok, Vietnam, India, Aral, Omsk]\n",
      "36   India   ASIA   [Middle_East, Aral, Vietnam, Sumatra, China]\n",
      "37   Japan   ASIA   [Vladivostok, China]\n",
      "38   Vietnam   ASIA   [China, India, Borneo]\n",
      "39   Borneo   OCEANIA   [New_Guinea, Australia, Vietnam]\n",
      "40   Sumatra   OCEANIA   [Australia, India]\n",
      "41   New_Guinea   OCEANIA   [Borneo, Australia]\n",
      "42   Australia   OCEANIA   [Borneo, Sumatra, New_Guinea]\n"
     ]
    }
   ],
   "source": [
    "for region in Region:\n",
    "    print(region.value.idx,' ',region.name,' ',region.value.continent.name,' ',region.value.borders) "
   ]
  },
  {
   "cell_type": "code",
   "execution_count": null,
   "metadata": {},
   "outputs": [],
   "source": []
  }
 ],
 "metadata": {
  "kernelspec": {
   "display_name": "war-challenge-ml-sGcu7Irm-py3.11",
   "language": "python",
   "name": "python3"
  },
  "language_info": {
   "codemirror_mode": {
    "name": "ipython",
    "version": 3
   },
   "file_extension": ".py",
   "mimetype": "text/x-python",
   "name": "python",
   "nbconvert_exporter": "python",
   "pygments_lexer": "ipython3",
   "version": "3.11.4"
  },
  "orig_nbformat": 4
 },
 "nbformat": 4,
 "nbformat_minor": 2
}
