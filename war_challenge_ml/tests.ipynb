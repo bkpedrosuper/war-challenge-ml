{
 "cells": [
  {
   "cell_type": "code",
   "execution_count": 1,
   "metadata": {},
   "outputs": [
    {
     "name": "stdout",
     "output_type": "stream",
     "text": [
      "env: ENVIRONMENT=prod\n"
     ]
    }
   ],
   "source": [
    "%env ENVIRONMENT prod"
   ]
  },
  {
   "cell_type": "code",
   "execution_count": 2,
   "metadata": {},
   "outputs": [],
   "source": [
    "from war_challenge_computer_vision.main import get_data\n",
    "from war_challenge_computer_vision.regions.regions import Region,Continent\n",
    "import pandas as pd"
   ]
  },
  {
   "cell_type": "code",
   "execution_count": 13,
   "metadata": {},
   "outputs": [],
   "source": [
    "%load_ext autoreload\n",
    "%autoreload 2"
   ]
  },
  {
   "cell_type": "code",
   "execution_count": 3,
   "metadata": {},
   "outputs": [],
   "source": [
    "data = get_data()"
   ]
  },
  {
   "cell_type": "code",
   "execution_count": 4,
   "metadata": {},
   "outputs": [
    {
     "data": {
      "text/plain": [
       "([(Brazil, 1, 'darkslategray'),\n",
       "  (Argentina_Uruguay, 1, 'darkslategray'),\n",
       "  (Colombia_Venezuela, 1, 'goldenrod'),\n",
       "  (Peru_Bolivia_Chile, 1, 'darkslateblue'),\n",
       "  (Mexico, 1, 'olivedrab'),\n",
       "  (California, 1, 'goldenrod'),\n",
       "  (New_York, 1, 'lightseagreen'),\n",
       "  (Labrador, 1, 'lightseagreen'),\n",
       "  (Ottawa, 1, 'goldenrod'),\n",
       "  (Vancouver, 1, 'darkslateblue'),\n",
       "  (Mackenzie, 1, 'goldenrod'),\n",
       "  (Alaska, 1, 'firebrick'),\n",
       "  (Greenland, 1, 'goldenrod'),\n",
       "  (Iceland, 1, 'olivedrab'),\n",
       "  (England, 1, 'darkslateblue'),\n",
       "  (Sweden, 1, 'firebrick'),\n",
       "  (Germany, 1, 'olivedrab'),\n",
       "  (Spain_Portugal_France_Italy, 1, 'lightseagreen'),\n",
       "  (Poland_Yugoslavia, 1, 'darkslategray'),\n",
       "  (Moscow, 1, 'darkslategray'),\n",
       "  (Algeria_Nigeria, 1, 'lightseagreen'),\n",
       "  (Egypt, 1, 'darkslategray'),\n",
       "  (Congo, 1, 'darkslateblue'),\n",
       "  (Sudan, 1, 'olivedrab'),\n",
       "  (Madagascar, 1, 'firebrick'),\n",
       "  (South_Africa, 1, 'goldenrod'),\n",
       "  (Middle_East, 1, 'olivedrab'),\n",
       "  (Aral, 1, 'lightseagreen'),\n",
       "  (Omsk, 1, 'firebrick'),\n",
       "  (Dudinka, 1, 'firebrick'),\n",
       "  (Siberia, 1, 'lightseagreen'),\n",
       "  (Tchita, 1, 'firebrick'),\n",
       "  (Mongolia, 1, 'lightseagreen'),\n",
       "  (Vladivostok, 1, 'firebrick'),\n",
       "  (China, 1, 'goldenrod'),\n",
       "  (India, 1, 'darkslateblue'),\n",
       "  (Japan, 1, 'darkslategray'),\n",
       "  (Vietnam, 1, 'darkslategray'),\n",
       "  (Borneo, 1, 'darkslateblue'),\n",
       "  (Sumatra, 1, 'darkslateblue'),\n",
       "  (New_Guinea, 1, 'olivedrab'),\n",
       "  (Australia, 1, 'olivedrab')],\n",
       " array([[False,  True,  True, ..., False, False, False],\n",
       "        [ True, False,  True, ..., False, False, False],\n",
       "        [ True, False, False, ..., False, False, False],\n",
       "        ...,\n",
       "        [False, False, False, ..., False, False,  True],\n",
       "        [False, False, False, ...,  True, False,  True],\n",
       "        [False, False, False, ...,  True,  True,  True]]),\n",
       " alocacao)"
      ]
     },
     "execution_count": 4,
     "metadata": {},
     "output_type": "execute_result"
    }
   ],
   "source": [
    "data"
   ]
  },
  {
   "cell_type": "code",
   "execution_count": 5,
   "metadata": {},
   "outputs": [],
   "source": [
    "from scripts.objectives import Objective,ObjectiveData,generate_base_weights, Conquer, ConquerData\n",
    "from scripts.state import WorldState, RegionState\n",
    "from scripts.player import Player\n",
    "from scripts.army import Army, armydict"
   ]
  },
  {
   "cell_type": "code",
   "execution_count": 6,
   "metadata": {},
   "outputs": [],
   "source": [
    "worldState = WorldState()"
   ]
  },
  {
   "cell_type": "code",
   "execution_count": 7,
   "metadata": {},
   "outputs": [
    {
     "name": "stdout",
     "output_type": "stream",
     "text": [
      "Argentina_Uruguay\n",
      "Peru_Bolivia_Chile\n",
      "Colombia_Venezuela\n",
      "Algeria_Nigeria\n"
     ]
    }
   ],
   "source": [
    "for elemento in worldState.getRegionState()[0].borders:\n",
    "    print(elemento.name)"
   ]
  },
  {
   "cell_type": "code",
   "execution_count": 119,
   "metadata": {},
   "outputs": [
    {
     "name": "stdout",
     "output_type": "stream",
     "text": [
      "Brazil None 0\n",
      "Argentina_Uruguay None 0\n",
      "Colombia_Venezuela None 0\n",
      "Peru_Bolivia_Chile None 0\n",
      "Mexico None 0\n",
      "California None 0\n",
      "New_York None 0\n",
      "Labrador None 0\n",
      "Ottawa None 0\n",
      "Vancouver None 0\n",
      "Mackenzie None 0\n",
      "Alaska None 0\n",
      "Greenland None 0\n",
      "Iceland None 0\n",
      "England None 0\n",
      "Sweden None 0\n",
      "Germany None 0\n",
      "Spain_Portugal_France_Italy None 0\n",
      "Poland_Yugoslavia None 0\n",
      "Moscow None 0\n",
      "Algeria_Nigeria None 0\n",
      "Egypt None 0\n",
      "Congo None 0\n",
      "Sudan None 0\n",
      "Madagascar None 0\n",
      "South_Africa None 0\n",
      "Middle_East None 0\n",
      "Aral None 0\n",
      "Omsk None 0\n",
      "Dudinka None 0\n",
      "Siberia None 0\n",
      "Tchita None 0\n",
      "Mongolia None 0\n",
      "Vladivostok None 0\n",
      "China None 0\n",
      "India None 0\n",
      "Japan None 0\n",
      "Vietnam None 0\n",
      "Borneo None 0\n",
      "Sumatra None 0\n",
      "New_Guinea None 0\n",
      "Australia None 0\n"
     ]
    }
   ],
   "source": [
    "for elemento in worldState.getRegionState():\n",
    "    print(elemento.name,elemento.army.tag,elemento.troops)"
   ]
  },
  {
   "cell_type": "code",
   "execution_count": 14,
   "metadata": {},
   "outputs": [
    {
     "name": "stdout",
     "output_type": "stream",
     "text": [
      "entroooo\n",
      "entroooo\n",
      "entroooo\n",
      "entroooo\n",
      "entroooo\n",
      "entroooo\n",
      "entroooo\n",
      "entroooo\n",
      "entroooo\n",
      "entroooo\n",
      "entroooo\n",
      "entroooo\n",
      "entroooo\n",
      "entroooo\n",
      "entroooo\n",
      "entroooo\n",
      "entroooo\n",
      "entroooo\n",
      "entroooo\n",
      "entroooo\n",
      "entroooo\n",
      "entroooo\n",
      "entroooo\n",
      "entroooo\n",
      "entroooo\n",
      "entroooo\n",
      "entroooo\n",
      "entroooo\n",
      "entroooo\n",
      "entroooo\n",
      "entroooo\n",
      "entroooo\n",
      "entroooo\n",
      "entroooo\n",
      "entroooo\n",
      "entroooo\n",
      "entroooo\n",
      "entroooo\n",
      "entroooo\n",
      "entroooo\n",
      "entroooo\n",
      "entroooo\n",
      "(WorldState) updated\n"
     ]
    }
   ],
   "source": [
    "worldState.update(data[0])"
   ]
  },
  {
   "cell_type": "code",
   "execution_count": 10,
   "metadata": {},
   "outputs": [
    {
     "name": "stdout",
     "output_type": "stream",
     "text": [
      "Brazil darkslategray 1\n",
      "Argentina_Uruguay darkslategray 1\n",
      "Colombia_Venezuela goldenrod 1\n",
      "Peru_Bolivia_Chile darkslateblue 1\n",
      "Mexico olivedrab 1\n",
      "California goldenrod 1\n",
      "New_York lightseagreen 1\n",
      "Labrador lightseagreen 1\n",
      "Ottawa goldenrod 1\n",
      "Vancouver darkslateblue 1\n",
      "Mackenzie goldenrod 1\n",
      "Alaska firebrick 1\n",
      "Greenland goldenrod 1\n",
      "Iceland olivedrab 1\n",
      "England darkslateblue 1\n",
      "Sweden firebrick 1\n",
      "Germany olivedrab 1\n",
      "Spain_Portugal_France_Italy lightseagreen 1\n",
      "Poland_Yugoslavia darkslategray 1\n",
      "Moscow darkslategray 1\n",
      "Algeria_Nigeria lightseagreen 1\n",
      "Egypt darkslategray 1\n",
      "Congo darkslateblue 1\n",
      "Sudan olivedrab 1\n",
      "Madagascar firebrick 1\n",
      "South_Africa goldenrod 1\n",
      "Middle_East olivedrab 1\n",
      "Aral lightseagreen 1\n",
      "Omsk firebrick 1\n",
      "Dudinka firebrick 1\n",
      "Siberia lightseagreen 1\n",
      "Tchita firebrick 1\n",
      "Mongolia lightseagreen 1\n",
      "Vladivostok firebrick 1\n",
      "China goldenrod 1\n",
      "India darkslateblue 1\n",
      "Japan darkslategray 1\n",
      "Vietnam darkslategray 1\n",
      "Borneo darkslateblue 1\n",
      "Sumatra darkslateblue 1\n",
      "New_Guinea olivedrab 1\n",
      "Australia olivedrab 1\n"
     ]
    }
   ],
   "source": [
    "for elemento in worldState.getRegionState():\n",
    "    print(elemento.name,elemento.army.tag,elemento.troops)"
   ]
  },
  {
   "cell_type": "code",
   "execution_count": 128,
   "metadata": {},
   "outputs": [
    {
     "data": {
      "text/plain": [
       "'Vladivostok'"
      ]
     },
     "execution_count": 128,
     "metadata": {},
     "output_type": "execute_result"
    }
   ],
   "source": [
    "Region.Alaska.value.borders[0].name"
   ]
  },
  {
   "cell_type": "code",
   "execution_count": 14,
   "metadata": {},
   "outputs": [
    {
     "data": {
      "text/plain": [
       "scripts.objectives.ObjectiveData"
      ]
     },
     "execution_count": 14,
     "metadata": {},
     "output_type": "execute_result"
    }
   ],
   "source": [
    "type(Objective.CONQUER_24_TERRITORIES.value)"
   ]
  },
  {
   "cell_type": "code",
   "execution_count": 46,
   "metadata": {},
   "outputs": [
    {
     "data": {
      "text/plain": [
       "<Conquer.TERRITORY: <scripts.objectives.ConquerData object at 0x7f2977882110>>"
      ]
     },
     "execution_count": 46,
     "metadata": {},
     "output_type": "execute_result"
    }
   ],
   "source": [
    "my_objective = Objective.CONQUER_24_TERRITORIES\n",
    "my_objective.value.conquertype"
   ]
  },
  {
   "cell_type": "code",
   "execution_count": 47,
   "metadata": {},
   "outputs": [
    {
     "data": {
      "text/plain": [
       "[(Brazil, 0.7),\n",
       " (Argentina_Uruguay, 0.5),\n",
       " (Colombia_Venezuela, 0.7),\n",
       " (Peru_Bolivia_Chile, 0.5),\n",
       " (Mexico, 0.7),\n",
       " (California, 0.5),\n",
       " (New_York, 0.5),\n",
       " (Labrador, 0.5),\n",
       " (Ottawa, 0.5),\n",
       " (Vancouver, 0.5),\n",
       " (Mackenzie, 0.5),\n",
       " (Alaska, 0.7),\n",
       " (Greenland, 0.7),\n",
       " (Iceland, 0.5),\n",
       " (England, 0.5),\n",
       " (Sweden, 0.5),\n",
       " (Germany, 0.5),\n",
       " (Spain_Portugal_France_Italy, 0.7),\n",
       " (Poland_Yugoslavia, 0.7),\n",
       " (Moscow, 0.7),\n",
       " (Algeria_Nigeria, 0.7),\n",
       " (Egypt, 0.7),\n",
       " (Congo, 0.5),\n",
       " (Sudan, 0.5),\n",
       " (Madagascar, 0.5),\n",
       " (South_Africa, 0.5),\n",
       " (Middle_East, 0.7),\n",
       " (Aral, 0.7),\n",
       " (Omsk, 0.5),\n",
       " (Dudinka, 0.5),\n",
       " (Siberia, 0.5),\n",
       " (Tchita, 0.5),\n",
       " (Mongolia, 0.5),\n",
       " (Vladivostok, 0.7),\n",
       " (China, 0.5),\n",
       " (India, 0.7),\n",
       " (Japan, 0.5),\n",
       " (Vietnam, 0.7),\n",
       " (Borneo, 0.5),\n",
       " (Sumatra, 0.7),\n",
       " (New_Guinea, 0.5),\n",
       " (Australia, 0.5)]"
      ]
     },
     "execution_count": 47,
     "metadata": {},
     "output_type": "execute_result"
    }
   ],
   "source": [
    "weights = generate_base_weights(my_objective.value)\n",
    "list(zip(Region,weights))"
   ]
  },
  {
   "cell_type": "code",
   "execution_count": 6,
   "metadata": {},
   "outputs": [
    {
     "name": "stdout",
     "output_type": "stream",
     "text": [
      "0   Brazil   SA   [Argentina_Uruguay, Peru_Bolivia_Chile, Colombia_Venezuela, Algeria_Nigeria]\n",
      "1   Argentina_Uruguay   SA   [Argentina_Uruguay, Peru_Bolivia_Chile]\n",
      "2   Colombia_Venezuela   SA   [Mexico, Brazil, Peru_Bolivia_Chile]\n",
      "3   Peru_Bolivia_Chile   SA   [Brazil, Peru_Bolivia_Chile, Argentina_Uruguay]\n",
      "4   Mexico   NA   [California, New_York, Colombia_Venezuela]\n",
      "5   California   NA   [New_York, Mexico, Vancouver, Ottawa]\n",
      "6   New_York   NA   [California, Mexico, Ottawa, Labrador]\n",
      "7   Labrador   NA   [Ottawa, New_York, Greenland]\n",
      "8   Ottawa   NA   [New_York, California, Labrador, Vancouver, Mackenzie]\n",
      "9   Vancouver   NA   [California, Ottawa, Mackenzie, Alaska]\n",
      "10   Mackenzie   NA   [Vancouver, Alaska, Greenland, Ottawa]\n",
      "11   Alaska   NA   [Vladivostok, Mackenzie, Vancouver]\n",
      "12   Greenland   NA   [Mackenzie, Labrador]\n",
      "13   Iceland   EU   [Greenland, England]\n",
      "14   England   EU   [Spain_Portugal_France_Italy, Germany, Sweden]\n",
      "15   Sweden   EU   [Germany, Moscow]\n",
      "16   Germany   EU   [England, Spain_Portugal_France_Italy, Poland_Yugoslavia, Sweden]\n",
      "17   Spain_Portugal_France_Italy   EU   [England, Germany, Algeria_Nigeria, Egypt]\n",
      "18   Poland_Yugoslavia   EU   [Middle_East, Germany, Moscow, Egypt]\n",
      "19   Moscow   EU   [Sweden, Poland_Yugoslavia, Aral, Omsk]\n",
      "20   Algeria_Nigeria   AFRICA   [Brazil, Egypt, Spain_Portugal_France_Italy, Congo, Sudan]\n",
      "21   Egypt   AFRICA   [Sudan, Algeria_Nigeria, Spain_Portugal_France_Italy, Poland_Yugoslavia, Middle_East]\n",
      "22   Congo   AFRICA   [Madagascar, Congo, Algeria_Nigeria, Egypt]\n",
      "23   Sudan   AFRICA   [Egypt, Algeria_Nigeria, Congo, South_Africa, Madagascar]\n",
      "24   Madagascar   AFRICA   [Sudan, South_Africa]\n",
      "25   South_Africa   AFRICA   [Madagascar, Congo, Sudan]\n",
      "26   Middle_East   ASIA   [Egypt, India, Aral]\n",
      "27   Aral   ASIA   [Omsk, Middle_East, India, China, Moscow]\n",
      "28   Omsk   ASIA   [Aral, Dudinka, Mongolia, Moscow, China]\n",
      "29   Dudinka   ASIA   [Omsk, Siberia, Tchita, Mongolia]\n",
      "30   Siberia   ASIA   [Dudinka, Vladivostok, Tchita]\n",
      "31   Tchita   ASIA   [Siberia, Dudinka, Mongolia, China, Vladivostok]\n",
      "32   Mongolia   ASIA   [Dudinka, Omsk, China, Tchita]\n",
      "33   Vladivostok   ASIA   [Siberia, Tchita, Alaska, China]\n",
      "34   China   ASIA   [Mongolia, Tchita, Vladivostok, Vietnam, India, Aral, Omsk]\n",
      "35   India   ASIA   [Middle_East, Aral, Vietnam, Sumatra, China]\n",
      "36   Japan   ASIA   [Vladivostok, China]\n",
      "37   Vietnam   ASIA   [China, India, Borneo]\n",
      "38   Borneo   OCEANIA   [New_Guinea, Australia, Vietnam]\n",
      "39   Sumatra   OCEANIA   [Australia, India]\n",
      "40   New_Guinea   OCEANIA   [Borneo, Australia]\n",
      "41   Australia   OCEANIA   [Borneo, Sumatra, New_Guinea]\n"
     ]
    }
   ],
   "source": [
    "for region in Region:\n",
    "    print(region.value.idx,' ',region.name,' ',region.value.continent.name,' ',region.value.borders) "
   ]
  },
  {
   "cell_type": "code",
   "execution_count": 7,
   "metadata": {},
   "outputs": [
    {
     "data": {
      "text/plain": [
       "6"
      ]
     },
     "execution_count": 7,
     "metadata": {},
     "output_type": "execute_result"
    }
   ],
   "source": [
    "len(Continent)"
   ]
  },
  {
   "cell_type": "code",
   "execution_count": 8,
   "metadata": {},
   "outputs": [
    {
     "data": {
      "text/plain": [
       "3"
      ]
     },
     "execution_count": 8,
     "metadata": {},
     "output_type": "execute_result"
    }
   ],
   "source": [
    "a = [1,2,3]\n",
    "a[-1]"
   ]
  }
 ],
 "metadata": {
  "kernelspec": {
   "display_name": "war-challenge-ml-sGcu7Irm-py3.11",
   "language": "python",
   "name": "python3"
  },
  "language_info": {
   "codemirror_mode": {
    "name": "ipython",
    "version": 3
   },
   "file_extension": ".py",
   "mimetype": "text/x-python",
   "name": "python",
   "nbconvert_exporter": "python",
   "pygments_lexer": "ipython3",
   "version": "3.11.4"
  },
  "orig_nbformat": 4
 },
 "nbformat": 4,
 "nbformat_minor": 2
}
