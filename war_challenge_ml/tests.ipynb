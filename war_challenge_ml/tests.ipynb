{
 "cells": [
  {
   "cell_type": "code",
   "execution_count": 1,
   "metadata": {},
   "outputs": [
    {
     "name": "stdout",
     "output_type": "stream",
     "text": [
      "env: ENVIRONMENT=prod\n"
     ]
    }
   ],
   "source": [
    "%env ENVIRONMENT prod"
   ]
  },
  {
   "cell_type": "code",
   "execution_count": 2,
   "metadata": {},
   "outputs": [],
   "source": [
    "from war_challenge_computer_vision.main import get_data\n",
    "from war_challenge_computer_vision.regions.regions import Region,Continent\n",
    "import pandas as pd"
   ]
  },
  {
   "cell_type": "code",
   "execution_count": 3,
   "metadata": {},
   "outputs": [],
   "source": [
    "%load_ext autoreload\n",
    "%autoreload 2"
   ]
  },
  {
   "cell_type": "code",
   "execution_count": 4,
   "metadata": {},
   "outputs": [],
   "source": [
    "data = get_data()"
   ]
  },
  {
   "cell_type": "code",
   "execution_count": 5,
   "metadata": {},
   "outputs": [
    {
     "data": {
      "text/plain": [
       "([(Brazil, 1, 'lightseagreen'),\n",
       "  (Argentina_Uruguay, 1, 'olivedrab'),\n",
       "  (Colombia_Venezuela, 1, 'lightseagreen'),\n",
       "  (Peru_Bolivia_Chile, 8, 'olivedrab'),\n",
       "  (Mexico, 1, 'olivedrab'),\n",
       "  (California, 1, 'lightseagreen'),\n",
       "  (New_York, 1, 'lightseagreen'),\n",
       "  (Labrador, 1, 'firebrick'),\n",
       "  (Ottawa, 1, 'firebrick'),\n",
       "  (Vancouver, 1, 'olivedrab'),\n",
       "  (Mackenzie, 1, 'olivedrab'),\n",
       "  (Alaska, 1, 'olivedrab'),\n",
       "  (Greenland, 1, 'olivedrab'),\n",
       "  (Iceland, 1, 'firebrick'),\n",
       "  (England, 1, 'olivedrab'),\n",
       "  (Sweden, 1, 'firebrick'),\n",
       "  (Germany, 1, 'lightseagreen'),\n",
       "  (Spain_Portugal_France_Italy, 1, 'lightseagreen'),\n",
       "  (Poland_Yugoslavia, 1, 'firebrick'),\n",
       "  (Moscow, 1, 'firebrick'),\n",
       "  (Algeria_Nigeria, 1, 'lightseagreen'),\n",
       "  (Egypt, 1, 'olivedrab'),\n",
       "  (Congo, 1, 'lightseagreen'),\n",
       "  (Sudan, 1, 'lightseagreen'),\n",
       "  (Madagascar, 1, 'lightseagreen'),\n",
       "  (South_Africa, 1, 'olivedrab'),\n",
       "  (Middle_East, 1, 'firebrick'),\n",
       "  (Aral, 1, 'firebrick'),\n",
       "  (Omsk, 8, 'firebrick'),\n",
       "  (Dudinka, 1, 'firebrick'),\n",
       "  (Siberia, 1, 'olivedrab'),\n",
       "  (Tchita, 1, 'olivedrab'),\n",
       "  (Mongolia, 1, 'firebrick'),\n",
       "  (Vladivostok, 1, 'firebrick'),\n",
       "  (China, 1, 'lightseagreen'),\n",
       "  (India, 1, 'olivedrab'),\n",
       "  (Japan, 1, 'firebrick'),\n",
       "  (Vietnam, 1, 'lightseagreen'),\n",
       "  (Borneo, 1, 'lightseagreen'),\n",
       "  (Sumatra, 1, 'lightseagreen'),\n",
       "  (New_Guinea, 1, 'firebrick'),\n",
       "  (Australia, 1, 'olivedrab')],\n",
       " array([[False,  True,  True, ..., False, False, False],\n",
       "        [ True, False,  True, ..., False, False, False],\n",
       "        [ True, False, False, ..., False, False, False],\n",
       "        ...,\n",
       "        [False, False, False, ..., False, False,  True],\n",
       "        [False, False, False, ...,  True, False,  True],\n",
       "        [False, False, False, ...,  True,  True,  True]]),\n",
       " alocacao,\n",
       " 'darkslategray')"
      ]
     },
     "execution_count": 5,
     "metadata": {},
     "output_type": "execute_result"
    }
   ],
   "source": [
    "data"
   ]
  },
  {
   "cell_type": "code",
   "execution_count": 6,
   "metadata": {},
   "outputs": [
    {
     "name": "stdout",
     "output_type": "stream",
     "text": [
      "0   Brazil   SA   [Argentina_Uruguay, Peru_Bolivia_Chile, Colombia_Venezuela, Algeria_Nigeria]\n",
      "1   Argentina_Uruguay   SA   [Argentina_Uruguay, Peru_Bolivia_Chile]\n",
      "2   Colombia_Venezuela   SA   [Mexico, Brazil, Peru_Bolivia_Chile]\n",
      "3   Peru_Bolivia_Chile   SA   [Brazil, Peru_Bolivia_Chile, Argentina_Uruguay]\n",
      "4   Mexico   NA   [California, New_York, Colombia_Venezuela]\n",
      "5   California   NA   [New_York, Mexico, Vancouver, Ottawa]\n",
      "6   New_York   NA   [California, Mexico, Ottawa, Labrador]\n",
      "7   Labrador   NA   [Ottawa, New_York, Greenland]\n",
      "8   Ottawa   NA   [New_York, California, Labrador, Vancouver, Mackenzie]\n",
      "9   Vancouver   NA   [California, Ottawa, Mackenzie, Alaska]\n",
      "10   Mackenzie   NA   [Vancouver, Alaska, Greenland, Ottawa]\n",
      "11   Alaska   NA   [Vladivostok, Mackenzie, Vancouver]\n",
      "12   Greenland   NA   [Mackenzie, Labrador]\n",
      "13   Iceland   EU   [Greenland, England]\n",
      "14   England   EU   [Spain_Portugal_France_Italy, Germany, Sweden]\n",
      "15   Sweden   EU   [Germany, Moscow]\n",
      "16   Germany   EU   [England, Spain_Portugal_France_Italy, Poland_Yugoslavia, Sweden]\n",
      "17   Spain_Portugal_France_Italy   EU   [England, Germany, Algeria_Nigeria, Egypt]\n",
      "18   Poland_Yugoslavia   EU   [Middle_East, Germany, Moscow, Egypt]\n",
      "19   Moscow   EU   [Sweden, Poland_Yugoslavia, Aral, Omsk]\n",
      "20   Algeria_Nigeria   AFRICA   [Brazil, Egypt, Spain_Portugal_France_Italy, Congo, Sudan]\n",
      "21   Egypt   AFRICA   [Sudan, Algeria_Nigeria, Spain_Portugal_France_Italy, Poland_Yugoslavia, Middle_East]\n",
      "22   Congo   AFRICA   [Madagascar, Congo, Algeria_Nigeria, Egypt]\n",
      "23   Sudan   AFRICA   [Egypt, Algeria_Nigeria, Congo, South_Africa, Madagascar]\n",
      "24   Madagascar   AFRICA   [Sudan, South_Africa]\n",
      "25   South_Africa   AFRICA   [Madagascar, Congo, Sudan]\n",
      "26   Middle_East   ASIA   [Egypt, India, Aral]\n",
      "27   Aral   ASIA   [Omsk, Middle_East, India, China, Moscow]\n",
      "28   Omsk   ASIA   [Aral, Dudinka, Mongolia, Moscow, China]\n",
      "29   Dudinka   ASIA   [Omsk, Siberia, Tchita, Mongolia]\n",
      "30   Siberia   ASIA   [Dudinka, Vladivostok, Tchita]\n",
      "31   Tchita   ASIA   [Siberia, Dudinka, Mongolia, China, Vladivostok]\n",
      "32   Mongolia   ASIA   [Dudinka, Omsk, China, Tchita]\n",
      "33   Vladivostok   ASIA   [Siberia, Tchita, Alaska, China]\n",
      "34   China   ASIA   [Mongolia, Tchita, Vladivostok, Vietnam, India, Aral, Omsk]\n",
      "35   India   ASIA   [Middle_East, Aral, Vietnam, Sumatra, China]\n",
      "36   Japan   ASIA   [Vladivostok, China]\n",
      "37   Vietnam   ASIA   [China, India, Borneo]\n",
      "38   Borneo   OCEANIA   [New_Guinea, Australia, Vietnam]\n",
      "39   Sumatra   OCEANIA   [Australia, India]\n",
      "40   New_Guinea   OCEANIA   [Borneo, Australia]\n",
      "41   Australia   OCEANIA   [Borneo, Sumatra, New_Guinea]\n"
     ]
    }
   ],
   "source": [
    "for region in Region:\n",
    "    print(region.value.idx,' ',region.name,' ',region.value.continent.name,' ',region.value.borders) "
   ]
  },
  {
   "cell_type": "code",
   "execution_count": 7,
   "metadata": {},
   "outputs": [
    {
     "data": {
      "text/plain": [
       "6"
      ]
     },
     "execution_count": 7,
     "metadata": {},
     "output_type": "execute_result"
    }
   ],
   "source": [
    "len(Continent)"
   ]
  },
  {
   "cell_type": "code",
   "execution_count": 8,
   "metadata": {},
   "outputs": [
    {
     "data": {
      "text/plain": [
       "3"
      ]
     },
     "execution_count": 8,
     "metadata": {},
     "output_type": "execute_result"
    }
   ],
   "source": [
    "a = [1,2,3]\n",
    "a[-1]"
   ]
  }
 ],
 "metadata": {
  "kernelspec": {
   "display_name": "war-challenge-ml-sGcu7Irm-py3.11",
   "language": "python",
   "name": "python3"
  },
  "language_info": {
   "codemirror_mode": {
    "name": "ipython",
    "version": 3
   },
   "file_extension": ".py",
   "mimetype": "text/x-python",
   "name": "python",
   "nbconvert_exporter": "python",
   "pygments_lexer": "ipython3",
   "version": "3.11.4"
  },
  "orig_nbformat": 4
 },
 "nbformat": 4,
 "nbformat_minor": 2
}
