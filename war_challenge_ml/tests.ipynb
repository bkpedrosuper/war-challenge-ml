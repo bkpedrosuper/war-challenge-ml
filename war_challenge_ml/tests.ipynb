{
 "cells": [
  {
   "cell_type": "code",
   "execution_count": 64,
   "metadata": {},
   "outputs": [
    {
     "name": "stdout",
     "output_type": "stream",
     "text": [
      "env: ENVIRONMENT=prod\n"
     ]
    }
   ],
   "source": [
    "%env ENVIRONMENT prod"
   ]
  },
  {
   "cell_type": "code",
   "execution_count": 63,
   "metadata": {},
   "outputs": [
    {
     "name": "stdout",
     "output_type": "stream",
     "text": [
      "The autoreload extension is already loaded. To reload it, use:\n",
      "  %reload_ext autoreload\n"
     ]
    }
   ],
   "source": [
    "%load_ext autoreload\n",
    "%autoreload 2"
   ]
  },
  {
   "cell_type": "code",
   "execution_count": 65,
   "metadata": {},
   "outputs": [],
   "source": [
    "from war_challenge_computer_vision.main import get_data\n",
    "from war_challenge_computer_vision.regions.regions import Region,Continent\n",
    "from scripts.objectives import Objective,ObjectiveData,generate_base_weights, Conquer, ConquerData\n",
    "from scripts.state import WorldState, RegionState\n",
    "from scripts.player import Player\n",
    "from scripts.army import Army, armydict, ArmyData\n",
    "import pandas as pd"
   ]
  },
  {
   "cell_type": "code",
   "execution_count": 66,
   "metadata": {},
   "outputs": [],
   "source": [
    "data = get_data()"
   ]
  },
  {
   "cell_type": "code",
   "execution_count": 86,
   "metadata": {},
   "outputs": [
    {
     "data": {
      "text/plain": [
       "([(Brazil, 1, 'lightseagreen'),\n",
       "  (Argentina_Uruguay, 1, 'firebrick'),\n",
       "  (Colombia_Venezuela, 1, 'olivedrab'),\n",
       "  (Peru_Bolivia_Chile, 1, 'firebrick'),\n",
       "  (Mexico, 1, 'lightseagreen'),\n",
       "  (California, 5, 'firebrick'),\n",
       "  (New_York, 1, 'olivedrab'),\n",
       "  (Labrador, 1, 'darkslateblue'),\n",
       "  (Ottawa, 1, 'olivedrab'),\n",
       "  (Vancouver, 1, 'lightseagreen'),\n",
       "  (Mackenzie, 1, 'goldenrod'),\n",
       "  (Alaska, 3, 'lightseagreen'),\n",
       "  (Greenland, 1, 'darkslateblue'),\n",
       "  (Iceland, 1, 'lightseagreen'),\n",
       "  (England, 1, 'goldenrod'),\n",
       "  (Sweden, 1, 'firebrick'),\n",
       "  (Germany, 1, 'firebrick'),\n",
       "  (Spain_Portugal_France_Italy, 1, 'firebrick'),\n",
       "  (Poland_Yugoslavia, 1, 'darkslateblue'),\n",
       "  (Moscow, 1, 'olivedrab'),\n",
       "  (Algeria_Nigeria, 1, 'goldenrod'),\n",
       "  (Egypt, 1, 'goldenrod'),\n",
       "  (Congo, 1, 'firebrick'),\n",
       "  (Sudan, 1, 'olivedrab'),\n",
       "  (Madagascar, 5, 'goldenrod'),\n",
       "  (South_Africa, 1, 'darkslateblue'),\n",
       "  (Middle_East, 1, 'firebrick'),\n",
       "  (Aral, 1, 'darkslateblue'),\n",
       "  (Omsk, 1, 'olivedrab'),\n",
       "  (Dudinka, 5, 'darkslateblue'),\n",
       "  (Siberia, 1, 'firebrick'),\n",
       "  (Tchita, 3, 'lightseagreen'),\n",
       "  (Mongolia, 1, 'goldenrod'),\n",
       "  (Vladivostok, 3, 'lightseagreen'),\n",
       "  (China, 3, 'lightseagreen'),\n",
       "  (India, 5, 'olivedrab'),\n",
       "  (Japan, 1, 'goldenrod'),\n",
       "  (Vietnam, 1, 'olivedrab'),\n",
       "  (Borneo, 1, 'olivedrab'),\n",
       "  (Sumatra, 1, 'darkslateblue'),\n",
       "  (New_Guinea, 1, 'darkslateblue'),\n",
       "  (Australia, 1, 'goldenrod')],\n",
       " array([[ True,  True,  True, ..., False, False, False],\n",
       "        [ True, False,  True, ..., False, False, False],\n",
       "        [ True, False,  True, ..., False, False, False],\n",
       "        ...,\n",
       "        [False, False, False, ..., False, False,  True],\n",
       "        [False, False, False, ...,  True, False,  True],\n",
       "        [False, False, False, ...,  True,  True,  True]]),\n",
       " ataque)"
      ]
     },
     "execution_count": 86,
     "metadata": {},
     "output_type": "execute_result"
    }
   ],
   "source": [
    "data"
   ]
  },
  {
   "cell_type": "code",
   "execution_count": 103,
   "metadata": {},
   "outputs": [],
   "source": [
    "worldState = WorldState()"
   ]
  },
  {
   "cell_type": "code",
   "execution_count": 104,
   "metadata": {},
   "outputs": [
    {
     "data": {
      "text/plain": [
       "42"
      ]
     },
     "execution_count": 104,
     "metadata": {},
     "output_type": "execute_result"
    }
   ],
   "source": [
    "worldState.worldLen"
   ]
  },
  {
   "cell_type": "code",
   "execution_count": 77,
   "metadata": {},
   "outputs": [
    {
     "name": "stdout",
     "output_type": "stream",
     "text": [
      "Argentina_Uruguay\n",
      "Peru_Bolivia_Chile\n",
      "Colombia_Venezuela\n",
      "Algeria_Nigeria\n"
     ]
    }
   ],
   "source": [
    "for elemento in worldState.getRegionState()[0].borders:\n",
    "    print(elemento.name)"
   ]
  },
  {
   "cell_type": "code",
   "execution_count": 106,
   "metadata": {},
   "outputs": [
    {
     "name": "stdout",
     "output_type": "stream",
     "text": [
      "(WorldState) updated\n"
     ]
    }
   ],
   "source": [
    "worldState.update(data[0])"
   ]
  },
  {
   "cell_type": "code",
   "execution_count": 112,
   "metadata": {},
   "outputs": [
    {
     "name": "stdout",
     "output_type": "stream",
     "text": [
      "Brazil lightseagreen 1 ['Argentina_Uruguay', 'Peru_Bolivia_Chile', 'Colombia_Venezuela', 'Algeria_Nigeria']\n",
      "Argentina_Uruguay firebrick 1 ['Brazil', 'Peru_Bolivia_Chile']\n",
      "Colombia_Venezuela olivedrab 1 ['Mexico', 'Brazil', 'Peru_Bolivia_Chile']\n",
      "Peru_Bolivia_Chile firebrick 1 ['Brazil', 'Colombia_Venezuela', 'Argentina_Uruguay']\n",
      "Mexico lightseagreen 1 ['California', 'New_York', 'Colombia_Venezuela']\n",
      "California firebrick 5 ['New_York', 'Mexico', 'Vancouver', 'Ottawa']\n",
      "New_York olivedrab 1 ['California', 'Mexico', 'Ottawa', 'Labrador']\n",
      "Labrador darkslateblue 1 ['Ottawa', 'New_York', 'Greenland']\n",
      "Ottawa olivedrab 1 ['New_York', 'California', 'Labrador', 'Vancouver', 'Mackenzie']\n",
      "Vancouver lightseagreen 1 ['California', 'Ottawa', 'Mackenzie', 'Alaska']\n",
      "Mackenzie goldenrod 1 ['Vancouver', 'Alaska', 'Greenland', 'Ottawa']\n",
      "Alaska lightseagreen 3 ['Vladivostok', 'Mackenzie', 'Vancouver']\n",
      "Greenland darkslateblue 1 ['Mackenzie', 'Labrador', 'Iceland']\n",
      "Iceland lightseagreen 1 ['Greenland', 'England']\n",
      "England goldenrod 1 ['Iceland', 'Spain_Portugal_France_Italy', 'Germany', 'Sweden']\n",
      "Sweden firebrick 1 ['England', 'Germany', 'Moscow']\n",
      "Germany firebrick 1 ['England', 'Spain_Portugal_France_Italy', 'Poland_Yugoslavia', 'Sweden']\n",
      "Spain_Portugal_France_Italy firebrick 1 ['England', 'Germany', 'Algeria_Nigeria', 'Egypt', 'Poland_Yugoslavia']\n",
      "Poland_Yugoslavia darkslateblue 1 ['Middle_East', 'Germany', 'Moscow', 'Egypt', 'Spain_Portugal_France_Italy']\n",
      "Moscow olivedrab 1 ['Sweden', 'Poland_Yugoslavia', 'Aral', 'Omsk', 'Middle_East']\n",
      "Algeria_Nigeria goldenrod 1 ['Brazil', 'Egypt', 'Spain_Portugal_France_Italy', 'Congo', 'Sudan']\n",
      "Egypt goldenrod 1 ['Sudan', 'Algeria_Nigeria', 'Spain_Portugal_France_Italy', 'Poland_Yugoslavia', 'Middle_East']\n",
      "Congo firebrick 1 ['Algeria_Nigeria', 'South_Africa', 'Sudan']\n",
      "Sudan olivedrab 1 ['Egypt', 'Algeria_Nigeria', 'Congo', 'South_Africa', 'Madagascar']\n",
      "Madagascar goldenrod 5 ['Sudan', 'South_Africa']\n",
      "South_Africa darkslateblue 1 ['Madagascar', 'Congo', 'Sudan']\n",
      "Middle_East firebrick 1 ['Egypt', 'India', 'Aral', 'Moscow']\n",
      "Aral darkslateblue 1 ['Omsk', 'Middle_East', 'India', 'China', 'Moscow']\n",
      "Omsk olivedrab 1 ['Aral', 'Dudinka', 'Mongolia', 'Moscow', 'China']\n",
      "Dudinka darkslateblue 5 ['Omsk', 'Siberia', 'Tchita', 'Mongolia']\n",
      "Siberia firebrick 1 ['Dudinka', 'Vladivostok', 'Tchita']\n",
      "Tchita lightseagreen 3 ['Siberia', 'Dudinka', 'Mongolia', 'China', 'Vladivostok']\n",
      "Mongolia goldenrod 1 ['Dudinka', 'Omsk', 'China', 'Tchita']\n",
      "Vladivostok lightseagreen 3 ['Siberia', 'Tchita', 'Alaska', 'China']\n",
      "China lightseagreen 3 ['Mongolia', 'Tchita', 'Vladivostok', 'Vietnam', 'India', 'Aral', 'Omsk']\n",
      "India olivedrab 5 ['Middle_East', 'Aral', 'Vietnam', 'Sumatra', 'China']\n",
      "Japan goldenrod 1 ['Vladivostok', 'China']\n",
      "Vietnam olivedrab 1 ['China', 'India', 'Borneo']\n",
      "Borneo olivedrab 1 ['New_Guinea', 'Australia', 'Vietnam']\n",
      "Sumatra darkslateblue 1 ['Australia', 'India']\n",
      "New_Guinea darkslateblue 1 ['Borneo', 'Australia']\n",
      "Australia goldenrod 1 ['Borneo', 'Sumatra', 'New_Guinea']\n"
     ]
    }
   ],
   "source": [
    "for elemento in worldState.getRegionState():\n",
    "    print(elemento.name,elemento.army.tag,elemento.troops,[border.name for border in elemento.borders])"
   ]
  },
  {
   "cell_type": "code",
   "execution_count": 43,
   "metadata": {},
   "outputs": [
    {
     "data": {
      "text/plain": [
       "'Vladivostok'"
      ]
     },
     "execution_count": 43,
     "metadata": {},
     "output_type": "execute_result"
    }
   ],
   "source": [
    "Region.Alaska.value.borders[0].name"
   ]
  },
  {
   "cell_type": "code",
   "execution_count": 69,
   "metadata": {},
   "outputs": [
    {
     "data": {
      "text/plain": [
       "scripts.objectives.ObjectiveData"
      ]
     },
     "execution_count": 69,
     "metadata": {},
     "output_type": "execute_result"
    }
   ],
   "source": [
    "type(Objective.CONQUER_24_TERRITORIES.value)"
   ]
  },
  {
   "cell_type": "code",
   "execution_count": 70,
   "metadata": {},
   "outputs": [
    {
     "data": {
      "text/plain": [
       "<Conquer.TERRITORY: <scripts.objectives.ConquerData object at 0x7f2a362fe610>>"
      ]
     },
     "execution_count": 70,
     "metadata": {},
     "output_type": "execute_result"
    }
   ],
   "source": [
    "my_objective = Objective.CONQUER_24_TERRITORIES\n",
    "my_objective.value.conquertype"
   ]
  },
  {
   "cell_type": "code",
   "execution_count": 113,
   "metadata": {},
   "outputs": [],
   "source": [
    "player = Player(Army.BLUE.value, Objective.CONQUER_24_TERRITORIES.value)"
   ]
  },
  {
   "cell_type": "code",
   "execution_count": 132,
   "metadata": {},
   "outputs": [
    {
     "name": "stdout",
     "output_type": "stream",
     "text": [
      "(WorldState) updated\n",
      "####Enemy  Vladivostok\n",
      "####Enemy  Mackenzie\n",
      "Alaska ataca Mackenzie fit:  -1.5\n",
      "Enemy Power  2.0\n",
      "####Enemy  Vancouver\n",
      "####Enemy  Siberia\n",
      "Tchita ataca Siberia fit:  -4.5\n",
      "Enemy Power  5.0\n",
      "####Enemy  Dudinka\n",
      "Tchita ataca Dudinka fit:  -6.5\n",
      "Enemy Power  3.0\n",
      "####Enemy  Mongolia\n",
      "Tchita ataca Mongolia fit:  -5.5\n",
      "Enemy Power  6.0\n",
      "####Enemy  China\n",
      "####Enemy  Vladivostok\n",
      "####Enemy  Siberia\n",
      "Vladivostok ataca Siberia fit:  -4.5\n",
      "Enemy Power  5.0\n",
      "####Enemy  Tchita\n",
      "####Enemy  Alaska\n",
      "####Enemy  China\n",
      "####Enemy  Mongolia\n",
      "China ataca Mongolia fit:  -5.5\n",
      "Enemy Power  6.0\n",
      "####Enemy  Tchita\n",
      "####Enemy  Vladivostok\n",
      "####Enemy  Vietnam\n",
      "China ataca Vietnam fit:  -5.5\n",
      "Enemy Power  6.0\n",
      "####Enemy  India\n",
      "China ataca India fit:  -7.5\n",
      "Enemy Power  4.0\n",
      "####Enemy  Aral\n",
      "China ataca Aral fit:  -7.5\n",
      "Enemy Power  8.0\n",
      "####Enemy  Omsk\n",
      "China ataca Omsk fit:  -7.5\n",
      "Enemy Power  8.0\n"
     ]
    },
    {
     "data": {
      "text/plain": [
       "[-1.5, -4.5, -6.5, -5.5, -4.5, -5.5, -5.5, -7.5, -7.5, -7.5]"
      ]
     },
     "execution_count": 132,
     "metadata": {},
     "output_type": "execute_result"
    }
   ],
   "source": [
    "player.divide_and_conquer(data)"
   ]
  },
  {
   "cell_type": "code",
   "execution_count": 115,
   "metadata": {},
   "outputs": [
    {
     "data": {
      "text/plain": [
       "[(Brazil, 0.5),\n",
       " (Argentina_Uruguay, 0.5),\n",
       " (Colombia_Venezuela, 0.5),\n",
       " (Peru_Bolivia_Chile, 0.5),\n",
       " (Mexico, 0.5),\n",
       " (California, 0.5),\n",
       " (New_York, 0.5),\n",
       " (Labrador, 0.5),\n",
       " (Ottawa, 0.5),\n",
       " (Vancouver, 0.5),\n",
       " (Mackenzie, 0.5),\n",
       " (Alaska, 0.5),\n",
       " (Greenland, 0.5),\n",
       " (Iceland, 0.5),\n",
       " (England, 0.5),\n",
       " (Sweden, 0.5),\n",
       " (Germany, 0.5),\n",
       " (Spain_Portugal_France_Italy, 0.5),\n",
       " (Poland_Yugoslavia, 0.5),\n",
       " (Moscow, 0.5),\n",
       " (Algeria_Nigeria, 0.5),\n",
       " (Egypt, 0.5),\n",
       " (Congo, 0.5),\n",
       " (Sudan, 0.5),\n",
       " (Madagascar, 0.5),\n",
       " (South_Africa, 0.5),\n",
       " (Middle_East, 0.5),\n",
       " (Aral, 0.5),\n",
       " (Omsk, 0.5),\n",
       " (Dudinka, 0.5),\n",
       " (Siberia, 0.5),\n",
       " (Tchita, 0.5),\n",
       " (Mongolia, 0.5),\n",
       " (Vladivostok, 0.5),\n",
       " (China, 0.5),\n",
       " (India, 0.5),\n",
       " (Japan, 0.5),\n",
       " (Vietnam, 0.5),\n",
       " (Borneo, 0.5),\n",
       " (Sumatra, 0.5),\n",
       " (New_Guinea, 0.5),\n",
       " (Australia, 0.5)]"
      ]
     },
     "execution_count": 115,
     "metadata": {},
     "output_type": "execute_result"
    }
   ],
   "source": [
    "weights = generate_base_weights(my_objective.value)\n",
    "list(zip(Region,weights))"
   ]
  },
  {
   "cell_type": "code",
   "execution_count": 90,
   "metadata": {},
   "outputs": [
    {
     "name": "stdout",
     "output_type": "stream",
     "text": [
      "0   Brazil   SA   [Argentina_Uruguay, Peru_Bolivia_Chile, Colombia_Venezuela, Algeria_Nigeria]\n",
      "1   Argentina_Uruguay   SA   [Brazil, Peru_Bolivia_Chile]\n",
      "2   Colombia_Venezuela   SA   [Mexico, Brazil, Peru_Bolivia_Chile]\n",
      "3   Peru_Bolivia_Chile   SA   [Brazil, Colombia_Venezuela, Argentina_Uruguay]\n",
      "4   Mexico   NA   [California, New_York, Colombia_Venezuela]\n",
      "5   California   NA   [New_York, Mexico, Vancouver, Ottawa]\n",
      "6   New_York   NA   [California, Mexico, Ottawa, Labrador]\n",
      "7   Labrador   NA   [Ottawa, New_York, Greenland]\n",
      "8   Ottawa   NA   [New_York, California, Labrador, Vancouver, Mackenzie]\n",
      "9   Vancouver   NA   [California, Ottawa, Mackenzie, Alaska]\n",
      "10   Mackenzie   NA   [Vancouver, Alaska, Greenland, Ottawa]\n",
      "11   Alaska   NA   [Vladivostok, Mackenzie, Vancouver]\n",
      "12   Greenland   NA   [Mackenzie, Labrador, Iceland]\n",
      "13   Iceland   EU   [Greenland, England]\n",
      "14   England   EU   [Iceland, Spain_Portugal_France_Italy, Germany, Sweden]\n",
      "15   Sweden   EU   [England, Germany, Moscow]\n",
      "16   Germany   EU   [England, Spain_Portugal_France_Italy, Poland_Yugoslavia, Sweden]\n",
      "17   Spain_Portugal_France_Italy   EU   [England, Germany, Algeria_Nigeria, Egypt, Poland_Yugoslavia]\n",
      "18   Poland_Yugoslavia   EU   [Middle_East, Germany, Moscow, Egypt, Spain_Portugal_France_Italy]\n",
      "19   Moscow   EU   [Sweden, Poland_Yugoslavia, Aral, Omsk, Middle_East]\n",
      "20   Algeria_Nigeria   AFRICA   [Brazil, Egypt, Spain_Portugal_France_Italy, Congo, Sudan]\n",
      "21   Egypt   AFRICA   [Sudan, Algeria_Nigeria, Spain_Portugal_France_Italy, Poland_Yugoslavia, Middle_East]\n",
      "22   Congo   AFRICA   [Algeria_Nigeria, South_Africa, Sudan]\n",
      "23   Sudan   AFRICA   [Egypt, Algeria_Nigeria, Congo, South_Africa, Madagascar]\n",
      "24   Madagascar   AFRICA   [Sudan, South_Africa]\n",
      "25   South_Africa   AFRICA   [Madagascar, Congo, Sudan]\n",
      "26   Middle_East   ASIA   [Egypt, India, Aral, Moscow]\n",
      "27   Aral   ASIA   [Omsk, Middle_East, India, China, Moscow]\n",
      "28   Omsk   ASIA   [Aral, Dudinka, Mongolia, Moscow, China]\n",
      "29   Dudinka   ASIA   [Omsk, Siberia, Tchita, Mongolia]\n",
      "30   Siberia   ASIA   [Dudinka, Vladivostok, Tchita]\n",
      "31   Tchita   ASIA   [Siberia, Dudinka, Mongolia, China, Vladivostok]\n",
      "32   Mongolia   ASIA   [Dudinka, Omsk, China, Tchita]\n",
      "33   Vladivostok   ASIA   [Siberia, Tchita, Alaska, China]\n",
      "34   China   ASIA   [Mongolia, Tchita, Vladivostok, Vietnam, India, Aral, Omsk]\n",
      "35   India   ASIA   [Middle_East, Aral, Vietnam, Sumatra, China]\n",
      "36   Japan   ASIA   [Vladivostok, China]\n",
      "37   Vietnam   ASIA   [China, India, Borneo]\n",
      "38   Borneo   OCEANIA   [New_Guinea, Australia, Vietnam]\n",
      "39   Sumatra   OCEANIA   [Australia, India]\n",
      "40   New_Guinea   OCEANIA   [Borneo, Australia]\n",
      "41   Australia   OCEANIA   [Borneo, Sumatra, New_Guinea]\n"
     ]
    }
   ],
   "source": [
    "for region in Region:\n",
    "    print(region.value.idx,' ',region.name,' ',region.value.continent.name,' ',region.value.borders) "
   ]
  },
  {
   "cell_type": "code",
   "execution_count": 131,
   "metadata": {},
   "outputs": [
    {
     "data": {
      "text/plain": [
       "'Alaska -(1)-> Vladivostok'"
      ]
     },
     "execution_count": 131,
     "metadata": {},
     "output_type": "execute_result"
    }
   ],
   "source": [
    "move = player.move()\n",
    "move"
   ]
  },
  {
   "cell_type": "code",
   "execution_count": 20,
   "metadata": {},
   "outputs": [
    {
     "data": {
      "text/plain": [
       "3"
      ]
     },
     "execution_count": 20,
     "metadata": {},
     "output_type": "execute_result"
    }
   ],
   "source": [
    "a = [1,2,3]\n",
    "a[-1]"
   ]
  }
 ],
 "metadata": {
  "kernelspec": {
   "display_name": "war-challenge-ml-sGcu7Irm-py3.11",
   "language": "python",
   "name": "python3"
  },
  "language_info": {
   "codemirror_mode": {
    "name": "ipython",
    "version": 3
   },
   "file_extension": ".py",
   "mimetype": "text/x-python",
   "name": "python",
   "nbconvert_exporter": "python",
   "pygments_lexer": "ipython3",
   "version": "3.11.4"
  },
  "orig_nbformat": 4
 },
 "nbformat": 4,
 "nbformat_minor": 2
}
